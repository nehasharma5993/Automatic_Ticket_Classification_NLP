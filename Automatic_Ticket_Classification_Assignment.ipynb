{
  "cells": [
    {
      "cell_type": "markdown",
      "metadata": {
        "id": "rhR-ZUkwJrFn"
      },
      "source": [
        "## Problem Statement\n",
        "\n",
        "You need to build a model that is able to classify customer complaints based on the products/services. By doing so, you can segregate these tickets into their relevant categories and, therefore, help in the quick resolution of the issue.\n",
        "\n",
        "You will be doing topic modelling on the <b>.json</b> data provided by the company. Since this data is not labelled, you need to apply NMF to analyse patterns and classify tickets into the following five clusters based on their products/services:\n",
        "\n",
        "* Credit card / Prepaid card\n",
        "\n",
        "* Bank account services\n",
        "\n",
        "* Theft/Dispute reporting\n",
        "\n",
        "* Mortgages/loans\n",
        "\n",
        "* Others\n",
        "\n",
        "\n",
        "With the help of topic modelling, you will be able to map each ticket onto its respective department/category. You can then use this data to train any supervised model such as logistic regression, decision tree or random forest. Using this trained model, you can classify any new customer complaint support ticket into its relevant department."
      ]
    },
    {
      "cell_type": "markdown",
      "metadata": {
        "id": "mcgXVNyaLUFS"
      },
      "source": [
        "## Pipelines that needs to be performed:\n",
        "\n",
        "You need to perform the following eight major tasks to complete the assignment:\n",
        "\n",
        "1.  Data loading\n",
        "\n",
        "2. Text preprocessing\n",
        "\n",
        "3. Exploratory data analysis (EDA)\n",
        "\n",
        "4. Feature extraction\n",
        "\n",
        "5. Topic modelling\n",
        "\n",
        "6. Model building using supervised learning\n",
        "\n",
        "7. Model training and evaluation\n",
        "\n",
        "8. Model inference"
      ]
    },
    {
      "cell_type": "markdown",
      "metadata": {
        "id": "JuLFIymAL58u"
      },
      "source": [
        "## Importing the necessary libraries"
      ]
    },
    {
      "cell_type": "code",
      "execution_count": 3,
      "metadata": {
        "id": "O-Q9pqrcJrFr"
      },
      "outputs": [],
      "source": [
        "import json\n",
        "import numpy as np\n",
        "import pandas as pd\n",
        "import re, nltk, spacy, string\n",
        "import en_core_web_sm\n",
        "nlp = en_core_web_sm.load()\n",
        "import seaborn as sns\n",
        "import matplotlib.pyplot as plt\n",
        "%matplotlib inline\n",
        "\n",
        "from plotly.offline import plot\n",
        "import plotly.graph_objects as go\n",
        "import plotly.express as px\n",
        "\n",
        "from sklearn.feature_extraction.text import CountVectorizer, TfidfVectorizer\n",
        "from pprint import pprint"
      ]
    },
    {
      "cell_type": "markdown",
      "metadata": {
        "id": "KtRLCsNVJrFt"
      },
      "source": [
        "## Loading the data\n",
        "\n",
        "The data is in JSON format and we need to convert it to a dataframe."
      ]
    },
    {
      "cell_type": "code",
      "execution_count": 4,
      "metadata": {
        "id": "puVzIf_iJrFt"
      },
      "outputs": [],
      "source": [
        "# Opening JSON file\n",
        "with open('complaints.json', 'r') as f:\n",
        "\t# returns JSON object as a dictionary\n",
        "\tdata = json.load(f)\n",
        "df = pd.json_normalize(data)"
      ]
    },
    {
      "cell_type": "markdown",
      "metadata": {
        "id": "_xYpH-sAJrFu"
      },
      "source": [
        "## Data preparation"
      ]
    },
    {
      "cell_type": "code",
      "execution_count": 5,
      "metadata": {
        "id": "Lf8ufHH5JrFu"
      },
      "outputs": [
        {
          "data": {
            "text/html": [
              "<div>\n",
              "<style scoped>\n",
              "    .dataframe tbody tr th:only-of-type {\n",
              "        vertical-align: middle;\n",
              "    }\n",
              "\n",
              "    .dataframe tbody tr th {\n",
              "        vertical-align: top;\n",
              "    }\n",
              "\n",
              "    .dataframe thead th {\n",
              "        text-align: right;\n",
              "    }\n",
              "</style>\n",
              "<table border=\"1\" class=\"dataframe\">\n",
              "  <thead>\n",
              "    <tr style=\"text-align: right;\">\n",
              "      <th></th>\n",
              "      <th>_index</th>\n",
              "      <th>_type</th>\n",
              "      <th>_id</th>\n",
              "      <th>_score</th>\n",
              "      <th>_source.tags</th>\n",
              "      <th>_source.zip_code</th>\n",
              "      <th>_source.complaint_id</th>\n",
              "      <th>_source.issue</th>\n",
              "      <th>_source.date_received</th>\n",
              "      <th>_source.state</th>\n",
              "      <th>...</th>\n",
              "      <th>_source.company_response</th>\n",
              "      <th>_source.company</th>\n",
              "      <th>_source.submitted_via</th>\n",
              "      <th>_source.date_sent_to_company</th>\n",
              "      <th>_source.company_public_response</th>\n",
              "      <th>_source.sub_product</th>\n",
              "      <th>_source.timely</th>\n",
              "      <th>_source.complaint_what_happened</th>\n",
              "      <th>_source.sub_issue</th>\n",
              "      <th>_source.consumer_consent_provided</th>\n",
              "    </tr>\n",
              "  </thead>\n",
              "  <tbody>\n",
              "    <tr>\n",
              "      <th>0</th>\n",
              "      <td>complaint-public-v2</td>\n",
              "      <td>complaint</td>\n",
              "      <td>3211475</td>\n",
              "      <td>0.0</td>\n",
              "      <td>None</td>\n",
              "      <td>90301</td>\n",
              "      <td>3211475</td>\n",
              "      <td>Attempts to collect debt not owed</td>\n",
              "      <td>2019-04-13T12:00:00-05:00</td>\n",
              "      <td>CA</td>\n",
              "      <td>...</td>\n",
              "      <td>Closed with explanation</td>\n",
              "      <td>JPMORGAN CHASE &amp; CO.</td>\n",
              "      <td>Web</td>\n",
              "      <td>2019-04-13T12:00:00-05:00</td>\n",
              "      <td>None</td>\n",
              "      <td>Credit card debt</td>\n",
              "      <td>Yes</td>\n",
              "      <td></td>\n",
              "      <td>Debt is not yours</td>\n",
              "      <td>Consent not provided</td>\n",
              "    </tr>\n",
              "    <tr>\n",
              "      <th>1</th>\n",
              "      <td>complaint-public-v2</td>\n",
              "      <td>complaint</td>\n",
              "      <td>3229299</td>\n",
              "      <td>0.0</td>\n",
              "      <td>Servicemember</td>\n",
              "      <td>319XX</td>\n",
              "      <td>3229299</td>\n",
              "      <td>Written notification about debt</td>\n",
              "      <td>2019-05-01T12:00:00-05:00</td>\n",
              "      <td>GA</td>\n",
              "      <td>...</td>\n",
              "      <td>Closed with explanation</td>\n",
              "      <td>JPMORGAN CHASE &amp; CO.</td>\n",
              "      <td>Web</td>\n",
              "      <td>2019-05-01T12:00:00-05:00</td>\n",
              "      <td>None</td>\n",
              "      <td>Credit card debt</td>\n",
              "      <td>Yes</td>\n",
              "      <td>Good morning my name is XXXX XXXX and I apprec...</td>\n",
              "      <td>Didn't receive enough information to verify debt</td>\n",
              "      <td>Consent provided</td>\n",
              "    </tr>\n",
              "    <tr>\n",
              "      <th>2</th>\n",
              "      <td>complaint-public-v2</td>\n",
              "      <td>complaint</td>\n",
              "      <td>3199379</td>\n",
              "      <td>0.0</td>\n",
              "      <td>None</td>\n",
              "      <td>77069</td>\n",
              "      <td>3199379</td>\n",
              "      <td>Other features, terms, or problems</td>\n",
              "      <td>2019-04-02T12:00:00-05:00</td>\n",
              "      <td>TX</td>\n",
              "      <td>...</td>\n",
              "      <td>Closed with explanation</td>\n",
              "      <td>JPMORGAN CHASE &amp; CO.</td>\n",
              "      <td>Web</td>\n",
              "      <td>2019-04-02T12:00:00-05:00</td>\n",
              "      <td>None</td>\n",
              "      <td>General-purpose credit card or charge card</td>\n",
              "      <td>Yes</td>\n",
              "      <td>I upgraded my XXXX XXXX card in XX/XX/2018 and...</td>\n",
              "      <td>Problem with rewards from credit card</td>\n",
              "      <td>Consent provided</td>\n",
              "    </tr>\n",
              "    <tr>\n",
              "      <th>3</th>\n",
              "      <td>complaint-public-v2</td>\n",
              "      <td>complaint</td>\n",
              "      <td>2673060</td>\n",
              "      <td>0.0</td>\n",
              "      <td>None</td>\n",
              "      <td>48066</td>\n",
              "      <td>2673060</td>\n",
              "      <td>Trouble during payment process</td>\n",
              "      <td>2017-09-13T12:00:00-05:00</td>\n",
              "      <td>MI</td>\n",
              "      <td>...</td>\n",
              "      <td>Closed with explanation</td>\n",
              "      <td>JPMORGAN CHASE &amp; CO.</td>\n",
              "      <td>Web</td>\n",
              "      <td>2017-09-14T12:00:00-05:00</td>\n",
              "      <td>None</td>\n",
              "      <td>Conventional home mortgage</td>\n",
              "      <td>Yes</td>\n",
              "      <td></td>\n",
              "      <td>None</td>\n",
              "      <td>Consent not provided</td>\n",
              "    </tr>\n",
              "    <tr>\n",
              "      <th>4</th>\n",
              "      <td>complaint-public-v2</td>\n",
              "      <td>complaint</td>\n",
              "      <td>3203545</td>\n",
              "      <td>0.0</td>\n",
              "      <td>None</td>\n",
              "      <td>10473</td>\n",
              "      <td>3203545</td>\n",
              "      <td>Fees or interest</td>\n",
              "      <td>2019-04-05T12:00:00-05:00</td>\n",
              "      <td>NY</td>\n",
              "      <td>...</td>\n",
              "      <td>Closed with explanation</td>\n",
              "      <td>JPMORGAN CHASE &amp; CO.</td>\n",
              "      <td>Referral</td>\n",
              "      <td>2019-04-05T12:00:00-05:00</td>\n",
              "      <td>None</td>\n",
              "      <td>General-purpose credit card or charge card</td>\n",
              "      <td>Yes</td>\n",
              "      <td></td>\n",
              "      <td>Charged too much interest</td>\n",
              "      <td>N/A</td>\n",
              "    </tr>\n",
              "  </tbody>\n",
              "</table>\n",
              "<p>5 rows × 22 columns</p>\n",
              "</div>"
            ],
            "text/plain": [
              "                _index      _type      _id  _score   _source.tags  \\\n",
              "0  complaint-public-v2  complaint  3211475     0.0           None   \n",
              "1  complaint-public-v2  complaint  3229299     0.0  Servicemember   \n",
              "2  complaint-public-v2  complaint  3199379     0.0           None   \n",
              "3  complaint-public-v2  complaint  2673060     0.0           None   \n",
              "4  complaint-public-v2  complaint  3203545     0.0           None   \n",
              "\n",
              "  _source.zip_code _source.complaint_id                       _source.issue  \\\n",
              "0            90301              3211475   Attempts to collect debt not owed   \n",
              "1            319XX              3229299     Written notification about debt   \n",
              "2            77069              3199379  Other features, terms, or problems   \n",
              "3            48066              2673060      Trouble during payment process   \n",
              "4            10473              3203545                    Fees or interest   \n",
              "\n",
              "       _source.date_received _source.state  ... _source.company_response  \\\n",
              "0  2019-04-13T12:00:00-05:00            CA  ...  Closed with explanation   \n",
              "1  2019-05-01T12:00:00-05:00            GA  ...  Closed with explanation   \n",
              "2  2019-04-02T12:00:00-05:00            TX  ...  Closed with explanation   \n",
              "3  2017-09-13T12:00:00-05:00            MI  ...  Closed with explanation   \n",
              "4  2019-04-05T12:00:00-05:00            NY  ...  Closed with explanation   \n",
              "\n",
              "        _source.company _source.submitted_via _source.date_sent_to_company  \\\n",
              "0  JPMORGAN CHASE & CO.                   Web    2019-04-13T12:00:00-05:00   \n",
              "1  JPMORGAN CHASE & CO.                   Web    2019-05-01T12:00:00-05:00   \n",
              "2  JPMORGAN CHASE & CO.                   Web    2019-04-02T12:00:00-05:00   \n",
              "3  JPMORGAN CHASE & CO.                   Web    2017-09-14T12:00:00-05:00   \n",
              "4  JPMORGAN CHASE & CO.              Referral    2019-04-05T12:00:00-05:00   \n",
              "\n",
              "  _source.company_public_response                         _source.sub_product  \\\n",
              "0                            None                            Credit card debt   \n",
              "1                            None                            Credit card debt   \n",
              "2                            None  General-purpose credit card or charge card   \n",
              "3                            None                  Conventional home mortgage   \n",
              "4                            None  General-purpose credit card or charge card   \n",
              "\n",
              "  _source.timely                    _source.complaint_what_happened  \\\n",
              "0            Yes                                                      \n",
              "1            Yes  Good morning my name is XXXX XXXX and I apprec...   \n",
              "2            Yes  I upgraded my XXXX XXXX card in XX/XX/2018 and...   \n",
              "3            Yes                                                      \n",
              "4            Yes                                                      \n",
              "\n",
              "                                  _source.sub_issue  \\\n",
              "0                                 Debt is not yours   \n",
              "1  Didn't receive enough information to verify debt   \n",
              "2             Problem with rewards from credit card   \n",
              "3                                              None   \n",
              "4                         Charged too much interest   \n",
              "\n",
              "  _source.consumer_consent_provided  \n",
              "0              Consent not provided  \n",
              "1                  Consent provided  \n",
              "2                  Consent provided  \n",
              "3              Consent not provided  \n",
              "4                               N/A  \n",
              "\n",
              "[5 rows x 22 columns]"
            ]
          },
          "execution_count": 5,
          "metadata": {},
          "output_type": "execute_result"
        }
      ],
      "source": [
        "# Inspect the dataframe to understand the given data.\n",
        "\n",
        "df.head()"
      ]
    },
    {
      "cell_type": "code",
      "execution_count": 21,
      "metadata": {},
      "outputs": [
        {
          "data": {
            "text/plain": [
              "(78313, 22)"
            ]
          },
          "execution_count": 21,
          "metadata": {},
          "output_type": "execute_result"
        }
      ],
      "source": [
        "df.shape"
      ]
    },
    {
      "cell_type": "code",
      "execution_count": 6,
      "metadata": {
        "id": "Dwcty-wmJrFw"
      },
      "outputs": [
        {
          "data": {
            "text/plain": [
              "Index(['_index', '_type', '_id', '_score', '_source.tags', '_source.zip_code',\n",
              "       '_source.complaint_id', '_source.issue', '_source.date_received',\n",
              "       '_source.state', '_source.consumer_disputed', '_source.product',\n",
              "       '_source.company_response', '_source.company', '_source.submitted_via',\n",
              "       '_source.date_sent_to_company', '_source.company_public_response',\n",
              "       '_source.sub_product', '_source.timely',\n",
              "       '_source.complaint_what_happened', '_source.sub_issue',\n",
              "       '_source.consumer_consent_provided'],\n",
              "      dtype='object')"
            ]
          },
          "execution_count": 6,
          "metadata": {},
          "output_type": "execute_result"
        }
      ],
      "source": [
        "#print the column names\n",
        "df.columns"
      ]
    },
    {
      "cell_type": "code",
      "execution_count": 7,
      "metadata": {
        "id": "FYCtKXD1JrFw"
      },
      "outputs": [],
      "source": [
        "#Assign new column names\n",
        "df.columns = [\n",
        "    'index', 'type', 'id', 'score', 'tags', 'zip_code', 'complaint_id', 'issue',\n",
        "    'date_received', 'state', 'consumer_disputed', 'product', 'company_response',\n",
        "    'company', 'submitted_via', 'date_sent_to_company', 'company_public_response',\n",
        "    'sub_product', 'timely', 'complaint_what_happened', 'sub_issue', 'consumer_consent_provided'\n",
        "]"
      ]
    },
    {
      "cell_type": "code",
      "execution_count": 8,
      "metadata": {},
      "outputs": [
        {
          "data": {
            "text/html": [
              "<div>\n",
              "<style scoped>\n",
              "    .dataframe tbody tr th:only-of-type {\n",
              "        vertical-align: middle;\n",
              "    }\n",
              "\n",
              "    .dataframe tbody tr th {\n",
              "        vertical-align: top;\n",
              "    }\n",
              "\n",
              "    .dataframe thead th {\n",
              "        text-align: right;\n",
              "    }\n",
              "</style>\n",
              "<table border=\"1\" class=\"dataframe\">\n",
              "  <thead>\n",
              "    <tr style=\"text-align: right;\">\n",
              "      <th></th>\n",
              "      <th>index</th>\n",
              "      <th>type</th>\n",
              "      <th>id</th>\n",
              "      <th>score</th>\n",
              "      <th>tags</th>\n",
              "      <th>zip_code</th>\n",
              "      <th>complaint_id</th>\n",
              "      <th>issue</th>\n",
              "      <th>date_received</th>\n",
              "      <th>state</th>\n",
              "      <th>...</th>\n",
              "      <th>company_response</th>\n",
              "      <th>company</th>\n",
              "      <th>submitted_via</th>\n",
              "      <th>date_sent_to_company</th>\n",
              "      <th>company_public_response</th>\n",
              "      <th>sub_product</th>\n",
              "      <th>timely</th>\n",
              "      <th>complaint_what_happened</th>\n",
              "      <th>sub_issue</th>\n",
              "      <th>consumer_consent_provided</th>\n",
              "    </tr>\n",
              "  </thead>\n",
              "  <tbody>\n",
              "    <tr>\n",
              "      <th>0</th>\n",
              "      <td>complaint-public-v2</td>\n",
              "      <td>complaint</td>\n",
              "      <td>3211475</td>\n",
              "      <td>0.0</td>\n",
              "      <td>None</td>\n",
              "      <td>90301</td>\n",
              "      <td>3211475</td>\n",
              "      <td>Attempts to collect debt not owed</td>\n",
              "      <td>2019-04-13T12:00:00-05:00</td>\n",
              "      <td>CA</td>\n",
              "      <td>...</td>\n",
              "      <td>Closed with explanation</td>\n",
              "      <td>JPMORGAN CHASE &amp; CO.</td>\n",
              "      <td>Web</td>\n",
              "      <td>2019-04-13T12:00:00-05:00</td>\n",
              "      <td>None</td>\n",
              "      <td>Credit card debt</td>\n",
              "      <td>Yes</td>\n",
              "      <td></td>\n",
              "      <td>Debt is not yours</td>\n",
              "      <td>Consent not provided</td>\n",
              "    </tr>\n",
              "    <tr>\n",
              "      <th>1</th>\n",
              "      <td>complaint-public-v2</td>\n",
              "      <td>complaint</td>\n",
              "      <td>3229299</td>\n",
              "      <td>0.0</td>\n",
              "      <td>Servicemember</td>\n",
              "      <td>319XX</td>\n",
              "      <td>3229299</td>\n",
              "      <td>Written notification about debt</td>\n",
              "      <td>2019-05-01T12:00:00-05:00</td>\n",
              "      <td>GA</td>\n",
              "      <td>...</td>\n",
              "      <td>Closed with explanation</td>\n",
              "      <td>JPMORGAN CHASE &amp; CO.</td>\n",
              "      <td>Web</td>\n",
              "      <td>2019-05-01T12:00:00-05:00</td>\n",
              "      <td>None</td>\n",
              "      <td>Credit card debt</td>\n",
              "      <td>Yes</td>\n",
              "      <td>Good morning my name is XXXX XXXX and I apprec...</td>\n",
              "      <td>Didn't receive enough information to verify debt</td>\n",
              "      <td>Consent provided</td>\n",
              "    </tr>\n",
              "    <tr>\n",
              "      <th>2</th>\n",
              "      <td>complaint-public-v2</td>\n",
              "      <td>complaint</td>\n",
              "      <td>3199379</td>\n",
              "      <td>0.0</td>\n",
              "      <td>None</td>\n",
              "      <td>77069</td>\n",
              "      <td>3199379</td>\n",
              "      <td>Other features, terms, or problems</td>\n",
              "      <td>2019-04-02T12:00:00-05:00</td>\n",
              "      <td>TX</td>\n",
              "      <td>...</td>\n",
              "      <td>Closed with explanation</td>\n",
              "      <td>JPMORGAN CHASE &amp; CO.</td>\n",
              "      <td>Web</td>\n",
              "      <td>2019-04-02T12:00:00-05:00</td>\n",
              "      <td>None</td>\n",
              "      <td>General-purpose credit card or charge card</td>\n",
              "      <td>Yes</td>\n",
              "      <td>I upgraded my XXXX XXXX card in XX/XX/2018 and...</td>\n",
              "      <td>Problem with rewards from credit card</td>\n",
              "      <td>Consent provided</td>\n",
              "    </tr>\n",
              "    <tr>\n",
              "      <th>3</th>\n",
              "      <td>complaint-public-v2</td>\n",
              "      <td>complaint</td>\n",
              "      <td>2673060</td>\n",
              "      <td>0.0</td>\n",
              "      <td>None</td>\n",
              "      <td>48066</td>\n",
              "      <td>2673060</td>\n",
              "      <td>Trouble during payment process</td>\n",
              "      <td>2017-09-13T12:00:00-05:00</td>\n",
              "      <td>MI</td>\n",
              "      <td>...</td>\n",
              "      <td>Closed with explanation</td>\n",
              "      <td>JPMORGAN CHASE &amp; CO.</td>\n",
              "      <td>Web</td>\n",
              "      <td>2017-09-14T12:00:00-05:00</td>\n",
              "      <td>None</td>\n",
              "      <td>Conventional home mortgage</td>\n",
              "      <td>Yes</td>\n",
              "      <td></td>\n",
              "      <td>None</td>\n",
              "      <td>Consent not provided</td>\n",
              "    </tr>\n",
              "    <tr>\n",
              "      <th>4</th>\n",
              "      <td>complaint-public-v2</td>\n",
              "      <td>complaint</td>\n",
              "      <td>3203545</td>\n",
              "      <td>0.0</td>\n",
              "      <td>None</td>\n",
              "      <td>10473</td>\n",
              "      <td>3203545</td>\n",
              "      <td>Fees or interest</td>\n",
              "      <td>2019-04-05T12:00:00-05:00</td>\n",
              "      <td>NY</td>\n",
              "      <td>...</td>\n",
              "      <td>Closed with explanation</td>\n",
              "      <td>JPMORGAN CHASE &amp; CO.</td>\n",
              "      <td>Referral</td>\n",
              "      <td>2019-04-05T12:00:00-05:00</td>\n",
              "      <td>None</td>\n",
              "      <td>General-purpose credit card or charge card</td>\n",
              "      <td>Yes</td>\n",
              "      <td></td>\n",
              "      <td>Charged too much interest</td>\n",
              "      <td>N/A</td>\n",
              "    </tr>\n",
              "  </tbody>\n",
              "</table>\n",
              "<p>5 rows × 22 columns</p>\n",
              "</div>"
            ],
            "text/plain": [
              "                 index       type       id  score           tags zip_code  \\\n",
              "0  complaint-public-v2  complaint  3211475    0.0           None    90301   \n",
              "1  complaint-public-v2  complaint  3229299    0.0  Servicemember    319XX   \n",
              "2  complaint-public-v2  complaint  3199379    0.0           None    77069   \n",
              "3  complaint-public-v2  complaint  2673060    0.0           None    48066   \n",
              "4  complaint-public-v2  complaint  3203545    0.0           None    10473   \n",
              "\n",
              "  complaint_id                               issue              date_received  \\\n",
              "0      3211475   Attempts to collect debt not owed  2019-04-13T12:00:00-05:00   \n",
              "1      3229299     Written notification about debt  2019-05-01T12:00:00-05:00   \n",
              "2      3199379  Other features, terms, or problems  2019-04-02T12:00:00-05:00   \n",
              "3      2673060      Trouble during payment process  2017-09-13T12:00:00-05:00   \n",
              "4      3203545                    Fees or interest  2019-04-05T12:00:00-05:00   \n",
              "\n",
              "  state  ...         company_response               company submitted_via  \\\n",
              "0    CA  ...  Closed with explanation  JPMORGAN CHASE & CO.           Web   \n",
              "1    GA  ...  Closed with explanation  JPMORGAN CHASE & CO.           Web   \n",
              "2    TX  ...  Closed with explanation  JPMORGAN CHASE & CO.           Web   \n",
              "3    MI  ...  Closed with explanation  JPMORGAN CHASE & CO.           Web   \n",
              "4    NY  ...  Closed with explanation  JPMORGAN CHASE & CO.      Referral   \n",
              "\n",
              "        date_sent_to_company company_public_response  \\\n",
              "0  2019-04-13T12:00:00-05:00                    None   \n",
              "1  2019-05-01T12:00:00-05:00                    None   \n",
              "2  2019-04-02T12:00:00-05:00                    None   \n",
              "3  2017-09-14T12:00:00-05:00                    None   \n",
              "4  2019-04-05T12:00:00-05:00                    None   \n",
              "\n",
              "                                  sub_product timely  \\\n",
              "0                            Credit card debt    Yes   \n",
              "1                            Credit card debt    Yes   \n",
              "2  General-purpose credit card or charge card    Yes   \n",
              "3                  Conventional home mortgage    Yes   \n",
              "4  General-purpose credit card or charge card    Yes   \n",
              "\n",
              "                             complaint_what_happened  \\\n",
              "0                                                      \n",
              "1  Good morning my name is XXXX XXXX and I apprec...   \n",
              "2  I upgraded my XXXX XXXX card in XX/XX/2018 and...   \n",
              "3                                                      \n",
              "4                                                      \n",
              "\n",
              "                                          sub_issue consumer_consent_provided  \n",
              "0                                 Debt is not yours      Consent not provided  \n",
              "1  Didn't receive enough information to verify debt          Consent provided  \n",
              "2             Problem with rewards from credit card          Consent provided  \n",
              "3                                              None      Consent not provided  \n",
              "4                         Charged too much interest                       N/A  \n",
              "\n",
              "[5 rows x 22 columns]"
            ]
          },
          "execution_count": 8,
          "metadata": {},
          "output_type": "execute_result"
        }
      ],
      "source": [
        "df.head()"
      ]
    },
    {
      "cell_type": "code",
      "execution_count": 14,
      "metadata": {},
      "outputs": [
        {
          "data": {
            "text/plain": [
              "index                            0\n",
              "type                             0\n",
              "id                               0\n",
              "score                            0\n",
              "tags                         67413\n",
              "zip_code                      6757\n",
              "complaint_id                     0\n",
              "issue                            0\n",
              "date_received                    0\n",
              "state                         1991\n",
              "consumer_disputed                0\n",
              "product                          0\n",
              "company_response                 0\n",
              "company                          0\n",
              "submitted_via                    0\n",
              "date_sent_to_company             0\n",
              "company_public_response      78309\n",
              "sub_product                  10571\n",
              "timely                           0\n",
              "complaint_what_happened          0\n",
              "sub_issue                    46297\n",
              "consumer_consent_provided     1008\n",
              "dtype: int64"
            ]
          },
          "execution_count": 14,
          "metadata": {},
          "output_type": "execute_result"
        }
      ],
      "source": [
        "df.isnull().sum()"
      ]
    },
    {
      "cell_type": "code",
      "execution_count": 17,
      "metadata": {},
      "outputs": [
        {
          "data": {
            "text/plain": [
              "np.int64(57241)"
            ]
          },
          "execution_count": 17,
          "metadata": {},
          "output_type": "execute_result"
        }
      ],
      "source": [
        "(df['complaint_what_happened'].str.strip() == '').sum()"
      ]
    },
    {
      "cell_type": "code",
      "execution_count": 18,
      "metadata": {
        "id": "grQUPFL5JrFx"
      },
      "outputs": [],
      "source": [
        "#Assign nan in place of blanks in the complaints column\n",
        "df['complaint_what_happened'].replace('', np.nan, inplace=True)"
      ]
    },
    {
      "cell_type": "code",
      "execution_count": 19,
      "metadata": {},
      "outputs": [
        {
          "data": {
            "text/plain": [
              "np.int64(0)"
            ]
          },
          "execution_count": 19,
          "metadata": {},
          "output_type": "execute_result"
        }
      ],
      "source": [
        "(df['complaint_what_happened'].str.strip() == '').sum()"
      ]
    },
    {
      "cell_type": "code",
      "execution_count": 20,
      "metadata": {},
      "outputs": [
        {
          "data": {
            "text/html": [
              "<div>\n",
              "<style scoped>\n",
              "    .dataframe tbody tr th:only-of-type {\n",
              "        vertical-align: middle;\n",
              "    }\n",
              "\n",
              "    .dataframe tbody tr th {\n",
              "        vertical-align: top;\n",
              "    }\n",
              "\n",
              "    .dataframe thead th {\n",
              "        text-align: right;\n",
              "    }\n",
              "</style>\n",
              "<table border=\"1\" class=\"dataframe\">\n",
              "  <thead>\n",
              "    <tr style=\"text-align: right;\">\n",
              "      <th></th>\n",
              "      <th>index</th>\n",
              "      <th>type</th>\n",
              "      <th>id</th>\n",
              "      <th>score</th>\n",
              "      <th>tags</th>\n",
              "      <th>zip_code</th>\n",
              "      <th>complaint_id</th>\n",
              "      <th>issue</th>\n",
              "      <th>date_received</th>\n",
              "      <th>state</th>\n",
              "      <th>...</th>\n",
              "      <th>company_response</th>\n",
              "      <th>company</th>\n",
              "      <th>submitted_via</th>\n",
              "      <th>date_sent_to_company</th>\n",
              "      <th>company_public_response</th>\n",
              "      <th>sub_product</th>\n",
              "      <th>timely</th>\n",
              "      <th>complaint_what_happened</th>\n",
              "      <th>sub_issue</th>\n",
              "      <th>consumer_consent_provided</th>\n",
              "    </tr>\n",
              "  </thead>\n",
              "  <tbody>\n",
              "    <tr>\n",
              "      <th>0</th>\n",
              "      <td>complaint-public-v2</td>\n",
              "      <td>complaint</td>\n",
              "      <td>3211475</td>\n",
              "      <td>0.0</td>\n",
              "      <td>None</td>\n",
              "      <td>90301</td>\n",
              "      <td>3211475</td>\n",
              "      <td>Attempts to collect debt not owed</td>\n",
              "      <td>2019-04-13T12:00:00-05:00</td>\n",
              "      <td>CA</td>\n",
              "      <td>...</td>\n",
              "      <td>Closed with explanation</td>\n",
              "      <td>JPMORGAN CHASE &amp; CO.</td>\n",
              "      <td>Web</td>\n",
              "      <td>2019-04-13T12:00:00-05:00</td>\n",
              "      <td>None</td>\n",
              "      <td>Credit card debt</td>\n",
              "      <td>Yes</td>\n",
              "      <td>NaN</td>\n",
              "      <td>Debt is not yours</td>\n",
              "      <td>Consent not provided</td>\n",
              "    </tr>\n",
              "    <tr>\n",
              "      <th>1</th>\n",
              "      <td>complaint-public-v2</td>\n",
              "      <td>complaint</td>\n",
              "      <td>3229299</td>\n",
              "      <td>0.0</td>\n",
              "      <td>Servicemember</td>\n",
              "      <td>319XX</td>\n",
              "      <td>3229299</td>\n",
              "      <td>Written notification about debt</td>\n",
              "      <td>2019-05-01T12:00:00-05:00</td>\n",
              "      <td>GA</td>\n",
              "      <td>...</td>\n",
              "      <td>Closed with explanation</td>\n",
              "      <td>JPMORGAN CHASE &amp; CO.</td>\n",
              "      <td>Web</td>\n",
              "      <td>2019-05-01T12:00:00-05:00</td>\n",
              "      <td>None</td>\n",
              "      <td>Credit card debt</td>\n",
              "      <td>Yes</td>\n",
              "      <td>Good morning my name is XXXX XXXX and I apprec...</td>\n",
              "      <td>Didn't receive enough information to verify debt</td>\n",
              "      <td>Consent provided</td>\n",
              "    </tr>\n",
              "    <tr>\n",
              "      <th>2</th>\n",
              "      <td>complaint-public-v2</td>\n",
              "      <td>complaint</td>\n",
              "      <td>3199379</td>\n",
              "      <td>0.0</td>\n",
              "      <td>None</td>\n",
              "      <td>77069</td>\n",
              "      <td>3199379</td>\n",
              "      <td>Other features, terms, or problems</td>\n",
              "      <td>2019-04-02T12:00:00-05:00</td>\n",
              "      <td>TX</td>\n",
              "      <td>...</td>\n",
              "      <td>Closed with explanation</td>\n",
              "      <td>JPMORGAN CHASE &amp; CO.</td>\n",
              "      <td>Web</td>\n",
              "      <td>2019-04-02T12:00:00-05:00</td>\n",
              "      <td>None</td>\n",
              "      <td>General-purpose credit card or charge card</td>\n",
              "      <td>Yes</td>\n",
              "      <td>I upgraded my XXXX XXXX card in XX/XX/2018 and...</td>\n",
              "      <td>Problem with rewards from credit card</td>\n",
              "      <td>Consent provided</td>\n",
              "    </tr>\n",
              "    <tr>\n",
              "      <th>3</th>\n",
              "      <td>complaint-public-v2</td>\n",
              "      <td>complaint</td>\n",
              "      <td>2673060</td>\n",
              "      <td>0.0</td>\n",
              "      <td>None</td>\n",
              "      <td>48066</td>\n",
              "      <td>2673060</td>\n",
              "      <td>Trouble during payment process</td>\n",
              "      <td>2017-09-13T12:00:00-05:00</td>\n",
              "      <td>MI</td>\n",
              "      <td>...</td>\n",
              "      <td>Closed with explanation</td>\n",
              "      <td>JPMORGAN CHASE &amp; CO.</td>\n",
              "      <td>Web</td>\n",
              "      <td>2017-09-14T12:00:00-05:00</td>\n",
              "      <td>None</td>\n",
              "      <td>Conventional home mortgage</td>\n",
              "      <td>Yes</td>\n",
              "      <td>NaN</td>\n",
              "      <td>None</td>\n",
              "      <td>Consent not provided</td>\n",
              "    </tr>\n",
              "    <tr>\n",
              "      <th>4</th>\n",
              "      <td>complaint-public-v2</td>\n",
              "      <td>complaint</td>\n",
              "      <td>3203545</td>\n",
              "      <td>0.0</td>\n",
              "      <td>None</td>\n",
              "      <td>10473</td>\n",
              "      <td>3203545</td>\n",
              "      <td>Fees or interest</td>\n",
              "      <td>2019-04-05T12:00:00-05:00</td>\n",
              "      <td>NY</td>\n",
              "      <td>...</td>\n",
              "      <td>Closed with explanation</td>\n",
              "      <td>JPMORGAN CHASE &amp; CO.</td>\n",
              "      <td>Referral</td>\n",
              "      <td>2019-04-05T12:00:00-05:00</td>\n",
              "      <td>None</td>\n",
              "      <td>General-purpose credit card or charge card</td>\n",
              "      <td>Yes</td>\n",
              "      <td>NaN</td>\n",
              "      <td>Charged too much interest</td>\n",
              "      <td>N/A</td>\n",
              "    </tr>\n",
              "  </tbody>\n",
              "</table>\n",
              "<p>5 rows × 22 columns</p>\n",
              "</div>"
            ],
            "text/plain": [
              "                 index       type       id  score           tags zip_code  \\\n",
              "0  complaint-public-v2  complaint  3211475    0.0           None    90301   \n",
              "1  complaint-public-v2  complaint  3229299    0.0  Servicemember    319XX   \n",
              "2  complaint-public-v2  complaint  3199379    0.0           None    77069   \n",
              "3  complaint-public-v2  complaint  2673060    0.0           None    48066   \n",
              "4  complaint-public-v2  complaint  3203545    0.0           None    10473   \n",
              "\n",
              "  complaint_id                               issue              date_received  \\\n",
              "0      3211475   Attempts to collect debt not owed  2019-04-13T12:00:00-05:00   \n",
              "1      3229299     Written notification about debt  2019-05-01T12:00:00-05:00   \n",
              "2      3199379  Other features, terms, or problems  2019-04-02T12:00:00-05:00   \n",
              "3      2673060      Trouble during payment process  2017-09-13T12:00:00-05:00   \n",
              "4      3203545                    Fees or interest  2019-04-05T12:00:00-05:00   \n",
              "\n",
              "  state  ...         company_response               company submitted_via  \\\n",
              "0    CA  ...  Closed with explanation  JPMORGAN CHASE & CO.           Web   \n",
              "1    GA  ...  Closed with explanation  JPMORGAN CHASE & CO.           Web   \n",
              "2    TX  ...  Closed with explanation  JPMORGAN CHASE & CO.           Web   \n",
              "3    MI  ...  Closed with explanation  JPMORGAN CHASE & CO.           Web   \n",
              "4    NY  ...  Closed with explanation  JPMORGAN CHASE & CO.      Referral   \n",
              "\n",
              "        date_sent_to_company company_public_response  \\\n",
              "0  2019-04-13T12:00:00-05:00                    None   \n",
              "1  2019-05-01T12:00:00-05:00                    None   \n",
              "2  2019-04-02T12:00:00-05:00                    None   \n",
              "3  2017-09-14T12:00:00-05:00                    None   \n",
              "4  2019-04-05T12:00:00-05:00                    None   \n",
              "\n",
              "                                  sub_product timely  \\\n",
              "0                            Credit card debt    Yes   \n",
              "1                            Credit card debt    Yes   \n",
              "2  General-purpose credit card or charge card    Yes   \n",
              "3                  Conventional home mortgage    Yes   \n",
              "4  General-purpose credit card or charge card    Yes   \n",
              "\n",
              "                             complaint_what_happened  \\\n",
              "0                                                NaN   \n",
              "1  Good morning my name is XXXX XXXX and I apprec...   \n",
              "2  I upgraded my XXXX XXXX card in XX/XX/2018 and...   \n",
              "3                                                NaN   \n",
              "4                                                NaN   \n",
              "\n",
              "                                          sub_issue consumer_consent_provided  \n",
              "0                                 Debt is not yours      Consent not provided  \n",
              "1  Didn't receive enough information to verify debt          Consent provided  \n",
              "2             Problem with rewards from credit card          Consent provided  \n",
              "3                                              None      Consent not provided  \n",
              "4                         Charged too much interest                       N/A  \n",
              "\n",
              "[5 rows x 22 columns]"
            ]
          },
          "execution_count": 20,
          "metadata": {},
          "output_type": "execute_result"
        }
      ],
      "source": [
        "df.head()"
      ]
    },
    {
      "cell_type": "code",
      "execution_count": 23,
      "metadata": {
        "id": "Jfxd8VSmJrFy"
      },
      "outputs": [],
      "source": [
        "#Remove all rows where complaints column is nan\n",
        "df = df[df['complaint_what_happened'].notna()]"
      ]
    },
    {
      "cell_type": "code",
      "execution_count": 24,
      "metadata": {},
      "outputs": [
        {
          "data": {
            "text/plain": [
              "(21072, 22)"
            ]
          },
          "execution_count": 24,
          "metadata": {},
          "output_type": "execute_result"
        }
      ],
      "source": [
        "df.shape"
      ]
    },
    {
      "cell_type": "markdown",
      "metadata": {
        "id": "L944HZpsJrFy"
      },
      "source": [
        "## Prepare the text for topic modeling\n",
        "\n",
        "Once you have removed all the blank complaints, you need to:\n",
        "\n",
        "* Make the text lowercase\n",
        "* Remove text in square brackets\n",
        "* Remove punctuation\n",
        "* Remove words containing numbers\n",
        "\n",
        "\n",
        "Once you have done these cleaning operations you need to perform the following:\n",
        "* Lemmatize the texts\n",
        "* Extract the POS tags of the lemmatized text and remove all the words which have tags other than NN[tag == \"NN\"].\n"
      ]
    },
    {
      "cell_type": "code",
      "execution_count": 25,
      "metadata": {
        "id": "qm7SjjSkJrFz"
      },
      "outputs": [],
      "source": [
        "# Write your function here to clean the text and remove all the unnecessary elements.\n",
        "import re\n",
        "import string\n",
        "\n",
        "def clean_complaint_text(text):\n",
        "    if pd.isnull(text):\n",
        "        return text  # Skip null values\n",
        "    \n",
        "    # 1. Make text lowercase\n",
        "    text = text.lower()\n",
        "    \n",
        "    # 2. Remove text inside square brackets\n",
        "    text = re.sub(r'\\[.*?\\]', '', text)\n",
        "    \n",
        "    # 3. Remove punctuation\n",
        "    text = text.translate(str.maketrans('', '', string.punctuation))\n",
        "    \n",
        "    # 4. Remove words containing numbers\n",
        "    text = re.sub(r'\\w*\\d\\w*', '', text)\n",
        "    \n",
        "    # 5. Remove extra spaces\n",
        "    text = re.sub(r'\\s+', ' ', text).strip()\n",
        "    \n",
        "    return text\n"
      ]
    },
    {
      "cell_type": "code",
      "execution_count": 29,
      "metadata": {
        "id": "zgOu8t8HJrFz"
      },
      "outputs": [],
      "source": [
        "#Write your function to Lemmatize the texts\n",
        "def lemmatize_text(text):\n",
        "    cleaned_text = clean_complaint_text(text)\n",
        "    if pd.isnull(cleaned_text):\n",
        "        return text\n",
        "    doc = nlp(text)\n",
        "    return ' '.join([token.lemma_ for token in doc])"
      ]
    },
    {
      "cell_type": "code",
      "execution_count": 30,
      "metadata": {
        "id": "uXnN7aa_JrF0"
      },
      "outputs": [],
      "source": [
        "#Create a dataframe('df_clean') that will have only the complaints and the lemmatized complaints\n",
        "df_clean = pd.DataFrame({\n",
        "    'complaint_what_happened': df['complaint_what_happened'],\n",
        "    'lemmatized_complaint': df['complaint_what_happened'].apply(lemmatize_text)\n",
        "})"
      ]
    },
    {
      "cell_type": "code",
      "execution_count": 31,
      "metadata": {
        "id": "nOiDVvEIJrF0"
      },
      "outputs": [
        {
          "data": {
            "text/html": [
              "<div>\n",
              "<style scoped>\n",
              "    .dataframe tbody tr th:only-of-type {\n",
              "        vertical-align: middle;\n",
              "    }\n",
              "\n",
              "    .dataframe tbody tr th {\n",
              "        vertical-align: top;\n",
              "    }\n",
              "\n",
              "    .dataframe thead th {\n",
              "        text-align: right;\n",
              "    }\n",
              "</style>\n",
              "<table border=\"1\" class=\"dataframe\">\n",
              "  <thead>\n",
              "    <tr style=\"text-align: right;\">\n",
              "      <th></th>\n",
              "      <th>complaint_what_happened</th>\n",
              "      <th>lemmatized_complaint</th>\n",
              "    </tr>\n",
              "  </thead>\n",
              "  <tbody>\n",
              "    <tr>\n",
              "      <th>1</th>\n",
              "      <td>Good morning my name is XXXX XXXX and I apprec...</td>\n",
              "      <td>good morning my name be XXXX xxxx and I apprec...</td>\n",
              "    </tr>\n",
              "    <tr>\n",
              "      <th>2</th>\n",
              "      <td>I upgraded my XXXX XXXX card in XX/XX/2018 and...</td>\n",
              "      <td>I upgrade my XXXX XXXX card in XX / XX/2018 an...</td>\n",
              "    </tr>\n",
              "    <tr>\n",
              "      <th>10</th>\n",
              "      <td>Chase Card was reported on XX/XX/2019. However...</td>\n",
              "      <td>Chase Card be report on XX / XX/2019 . however...</td>\n",
              "    </tr>\n",
              "    <tr>\n",
              "      <th>11</th>\n",
              "      <td>On XX/XX/2018, while trying to book a XXXX  XX...</td>\n",
              "      <td>on XX / XX/2018 , while try to book a XXXX   x...</td>\n",
              "    </tr>\n",
              "    <tr>\n",
              "      <th>14</th>\n",
              "      <td>my grand son give me check for {$1600.00} i de...</td>\n",
              "      <td>my grand son give I check for { $ 1600.00 } I ...</td>\n",
              "    </tr>\n",
              "    <tr>\n",
              "      <th>...</th>\n",
              "      <td>...</td>\n",
              "      <td>...</td>\n",
              "    </tr>\n",
              "    <tr>\n",
              "      <th>78303</th>\n",
              "      <td>After being a Chase Card customer for well ove...</td>\n",
              "      <td>after be a Chase Card customer for well over a...</td>\n",
              "    </tr>\n",
              "    <tr>\n",
              "      <th>78309</th>\n",
              "      <td>On Wednesday, XX/XX/XXXX I called Chas, my XXX...</td>\n",
              "      <td>on Wednesday , XX / XX / XXXX I call Chas , my...</td>\n",
              "    </tr>\n",
              "    <tr>\n",
              "      <th>78310</th>\n",
              "      <td>I am not familiar with XXXX pay and did not un...</td>\n",
              "      <td>I be not familiar with XXXX pay and do not und...</td>\n",
              "    </tr>\n",
              "    <tr>\n",
              "      <th>78311</th>\n",
              "      <td>I have had flawless credit for 30 yrs. I've ha...</td>\n",
              "      <td>I have have flawless credit for 30 yr . I have...</td>\n",
              "    </tr>\n",
              "    <tr>\n",
              "      <th>78312</th>\n",
              "      <td>Roughly 10+ years ago I closed out my accounts...</td>\n",
              "      <td>roughly 10 + year ago I close out my account w...</td>\n",
              "    </tr>\n",
              "  </tbody>\n",
              "</table>\n",
              "<p>21072 rows × 2 columns</p>\n",
              "</div>"
            ],
            "text/plain": [
              "                                 complaint_what_happened  \\\n",
              "1      Good morning my name is XXXX XXXX and I apprec...   \n",
              "2      I upgraded my XXXX XXXX card in XX/XX/2018 and...   \n",
              "10     Chase Card was reported on XX/XX/2019. However...   \n",
              "11     On XX/XX/2018, while trying to book a XXXX  XX...   \n",
              "14     my grand son give me check for {$1600.00} i de...   \n",
              "...                                                  ...   \n",
              "78303  After being a Chase Card customer for well ove...   \n",
              "78309  On Wednesday, XX/XX/XXXX I called Chas, my XXX...   \n",
              "78310  I am not familiar with XXXX pay and did not un...   \n",
              "78311  I have had flawless credit for 30 yrs. I've ha...   \n",
              "78312  Roughly 10+ years ago I closed out my accounts...   \n",
              "\n",
              "                                    lemmatized_complaint  \n",
              "1      good morning my name be XXXX xxxx and I apprec...  \n",
              "2      I upgrade my XXXX XXXX card in XX / XX/2018 an...  \n",
              "10     Chase Card be report on XX / XX/2019 . however...  \n",
              "11     on XX / XX/2018 , while try to book a XXXX   x...  \n",
              "14     my grand son give I check for { $ 1600.00 } I ...  \n",
              "...                                                  ...  \n",
              "78303  after be a Chase Card customer for well over a...  \n",
              "78309  on Wednesday , XX / XX / XXXX I call Chas , my...  \n",
              "78310  I be not familiar with XXXX pay and do not und...  \n",
              "78311  I have have flawless credit for 30 yr . I have...  \n",
              "78312  roughly 10 + year ago I close out my account w...  \n",
              "\n",
              "[21072 rows x 2 columns]"
            ]
          },
          "execution_count": 31,
          "metadata": {},
          "output_type": "execute_result"
        }
      ],
      "source": [
        "df_clean"
      ]
    },
    {
      "cell_type": "code",
      "execution_count": 32,
      "metadata": {
        "id": "Kk7fc4DuJrF1"
      },
      "outputs": [],
      "source": [
        "#Write your function to extract the POS tags\n",
        "\n",
        "def pos_tag(text):\n",
        "  # write your code here\n",
        "  doc = nlp(text)\n",
        "  return ' '.join([token.text for token in doc if token.pos_ == \"NOUN\"])\n",
        "\n",
        "\n",
        "\n",
        "# df_clean[\"complaint_POS_removed\"] =  #this column should contain lemmatized text with all the words removed which have tags other than NN[tag == \"NN\"].\n",
        "df_clean[\"complaint_POS_removed\"] = df_clean[\"lemmatized_complaint\"].apply(pos_tag)\n"
      ]
    },
    {
      "cell_type": "code",
      "execution_count": 33,
      "metadata": {
        "id": "AjxfchvFJrF2"
      },
      "outputs": [
        {
          "data": {
            "text/html": [
              "<div>\n",
              "<style scoped>\n",
              "    .dataframe tbody tr th:only-of-type {\n",
              "        vertical-align: middle;\n",
              "    }\n",
              "\n",
              "    .dataframe tbody tr th {\n",
              "        vertical-align: top;\n",
              "    }\n",
              "\n",
              "    .dataframe thead th {\n",
              "        text-align: right;\n",
              "    }\n",
              "</style>\n",
              "<table border=\"1\" class=\"dataframe\">\n",
              "  <thead>\n",
              "    <tr style=\"text-align: right;\">\n",
              "      <th></th>\n",
              "      <th>complaint_what_happened</th>\n",
              "      <th>lemmatized_complaint</th>\n",
              "      <th>complaint_POS_removed</th>\n",
              "    </tr>\n",
              "  </thead>\n",
              "  <tbody>\n",
              "    <tr>\n",
              "      <th>1</th>\n",
              "      <td>Good morning my name is XXXX XXXX and I apprec...</td>\n",
              "      <td>good morning my name be XXXX xxxx and I apprec...</td>\n",
              "      <td>morning name stop cardmember service debt veri...</td>\n",
              "    </tr>\n",
              "    <tr>\n",
              "      <th>2</th>\n",
              "      <td>I upgraded my XXXX XXXX card in XX/XX/2018 and...</td>\n",
              "      <td>I upgrade my XXXX XXXX card in XX / XX/2018 an...</td>\n",
              "      <td>XXXX card XX/2018 agent anniversary date agent...</td>\n",
              "    </tr>\n",
              "    <tr>\n",
              "      <th>10</th>\n",
              "      <td>Chase Card was reported on XX/XX/2019. However...</td>\n",
              "      <td>Chase Card be report on XX / XX/2019 . however...</td>\n",
              "      <td>report application identity consent service cr...</td>\n",
              "    </tr>\n",
              "    <tr>\n",
              "      <th>11</th>\n",
              "      <td>On XX/XX/2018, while trying to book a XXXX  XX...</td>\n",
              "      <td>on XX / XX/2018 , while try to book a XXXX   x...</td>\n",
              "      <td>ticket offer ticket reward card information of...</td>\n",
              "    </tr>\n",
              "    <tr>\n",
              "      <th>14</th>\n",
              "      <td>my grand son give me check for {$1600.00} i de...</td>\n",
              "      <td>my grand son give I check for { $ 1600.00 } I ...</td>\n",
              "      <td>son chase account fund chase bank account mone...</td>\n",
              "    </tr>\n",
              "    <tr>\n",
              "      <th>...</th>\n",
              "      <td>...</td>\n",
              "      <td>...</td>\n",
              "      <td>...</td>\n",
              "    </tr>\n",
              "    <tr>\n",
              "      <th>78303</th>\n",
              "      <td>After being a Chase Card customer for well ove...</td>\n",
              "      <td>after be a Chase Card customer for well over a...</td>\n",
              "      <td>customer decade solicitation credit card bonus...</td>\n",
              "    </tr>\n",
              "    <tr>\n",
              "      <th>78309</th>\n",
              "      <td>On Wednesday, XX/XX/XXXX I called Chas, my XXX...</td>\n",
              "      <td>on Wednesday , XX / XX / XXXX I call Chas , my...</td>\n",
              "      <td>provider claim purchase protection benefit XXX...</td>\n",
              "    </tr>\n",
              "    <tr>\n",
              "      <th>78310</th>\n",
              "      <td>I am not familiar with XXXX pay and did not un...</td>\n",
              "      <td>I be not familiar with XXXX pay and do not und...</td>\n",
              "      <td>risk consumer bank app year banking merchant m...</td>\n",
              "    </tr>\n",
              "    <tr>\n",
              "      <th>78311</th>\n",
              "      <td>I have had flawless credit for 30 yrs. I've ha...</td>\n",
              "      <td>I have have flawless credit for 30 yr . I have...</td>\n",
              "      <td>credit yr credit card problem balance transfer...</td>\n",
              "    </tr>\n",
              "    <tr>\n",
              "      <th>78312</th>\n",
              "      <td>Roughly 10+ years ago I closed out my accounts...</td>\n",
              "      <td>roughly 10 + year ago I close out my account w...</td>\n",
              "      <td>year account order line credit account payment...</td>\n",
              "    </tr>\n",
              "  </tbody>\n",
              "</table>\n",
              "<p>21072 rows × 3 columns</p>\n",
              "</div>"
            ],
            "text/plain": [
              "                                 complaint_what_happened  \\\n",
              "1      Good morning my name is XXXX XXXX and I apprec...   \n",
              "2      I upgraded my XXXX XXXX card in XX/XX/2018 and...   \n",
              "10     Chase Card was reported on XX/XX/2019. However...   \n",
              "11     On XX/XX/2018, while trying to book a XXXX  XX...   \n",
              "14     my grand son give me check for {$1600.00} i de...   \n",
              "...                                                  ...   \n",
              "78303  After being a Chase Card customer for well ove...   \n",
              "78309  On Wednesday, XX/XX/XXXX I called Chas, my XXX...   \n",
              "78310  I am not familiar with XXXX pay and did not un...   \n",
              "78311  I have had flawless credit for 30 yrs. I've ha...   \n",
              "78312  Roughly 10+ years ago I closed out my accounts...   \n",
              "\n",
              "                                    lemmatized_complaint  \\\n",
              "1      good morning my name be XXXX xxxx and I apprec...   \n",
              "2      I upgrade my XXXX XXXX card in XX / XX/2018 an...   \n",
              "10     Chase Card be report on XX / XX/2019 . however...   \n",
              "11     on XX / XX/2018 , while try to book a XXXX   x...   \n",
              "14     my grand son give I check for { $ 1600.00 } I ...   \n",
              "...                                                  ...   \n",
              "78303  after be a Chase Card customer for well over a...   \n",
              "78309  on Wednesday , XX / XX / XXXX I call Chas , my...   \n",
              "78310  I be not familiar with XXXX pay and do not und...   \n",
              "78311  I have have flawless credit for 30 yr . I have...   \n",
              "78312  roughly 10 + year ago I close out my account w...   \n",
              "\n",
              "                                   complaint_POS_removed  \n",
              "1      morning name stop cardmember service debt veri...  \n",
              "2      XXXX card XX/2018 agent anniversary date agent...  \n",
              "10     report application identity consent service cr...  \n",
              "11     ticket offer ticket reward card information of...  \n",
              "14     son chase account fund chase bank account mone...  \n",
              "...                                                  ...  \n",
              "78303  customer decade solicitation credit card bonus...  \n",
              "78309  provider claim purchase protection benefit XXX...  \n",
              "78310  risk consumer bank app year banking merchant m...  \n",
              "78311  credit yr credit card problem balance transfer...  \n",
              "78312  year account order line credit account payment...  \n",
              "\n",
              "[21072 rows x 3 columns]"
            ]
          },
          "execution_count": 33,
          "metadata": {},
          "output_type": "execute_result"
        }
      ],
      "source": [
        "#The clean dataframe should now contain the raw complaint, lemmatized complaint and the complaint after removing POS tags.\n",
        "df_clean"
      ]
    },
    {
      "cell_type": "markdown",
      "metadata": {
        "id": "_7Un1AElJrF2"
      },
      "source": [
        "## Exploratory data analysis to get familiar with the data.\n",
        "\n",
        "Write the code in this task to perform the following:\n",
        "\n",
        "*   Visualise the data according to the 'Complaint' character length\n",
        "*   Using a word cloud find the top 40 words by frequency among all the articles after processing the text\n",
        "*   Find the top unigrams,bigrams and trigrams by frequency among all the complaints after processing the text. ‘\n",
        "\n",
        "\n"
      ]
    },
    {
      "cell_type": "code",
      "execution_count": 37,
      "metadata": {
        "id": "q-zaqJF6JrF2"
      },
      "outputs": [
        {
          "data": {
            "image/png": "[encoded data removed]",
            "text/plain": [
              "<Figure size 1000x600 with 1 Axes>"
            ]
          },
          "metadata": {},
          "output_type": "display_data"
        }
      ],
      "source": [
        "# Write your code here to visualise the data according to the 'Complaint' character length\n",
        "df_clean['complaint_length'] = df_clean['complaint_what_happened'].str.len()\n",
        "plt.figure(figsize=(10,6))\n",
        "sns.histplot(df_clean['complaint_length'], bins=50, kde=True)\n",
        "plt.title('Distribution of Complaint Character Length')\n",
        "plt.xlabel('Complaint Character Length')\n",
        "plt.ylabel('Frequency')\n",
        "plt.show()"
      ]
    },
    {
      "cell_type": "markdown",
      "metadata": {
        "id": "T9jD_6SeJrF3"
      },
      "source": [
        "#### Find the top 40 words by frequency among all the articles after processing the text."
      ]
    },
    {
      "cell_type": "code",
      "execution_count": 42,
      "metadata": {
        "id": "QcfdvtfZJrF3"
      },
      "outputs": [
        {
          "name": "stdout",
          "output_type": "stream",
          "text": [
            "Top 40 Words by Frequency:\n",
            "account: 46854\n",
            "credit: 30373\n",
            "card: 27916\n",
            "XXXX: 25781\n",
            "payment: 20859\n",
            "bank: 17582\n",
            "time: 16034\n",
            "charge: 14754\n",
            "day: 13159\n",
            "money: 11895\n",
            "check: 10983\n",
            "loan: 10208\n",
            "information: 9561\n",
            "letter: 9477\n",
            "fee: 8576\n",
            "number: 8540\n",
            "month: 8504\n",
            "report: 8480\n",
            "transaction: 8421\n",
            "year: 8405\n",
            "amount: 8309\n",
            "call: 7912\n",
            "phone: 7560\n",
            "balance: 7555\n",
            "customer: 7456\n",
            "company: 7391\n",
            "fund: 6972\n",
            "mortgage: 6911\n",
            "claim: 6703\n",
            "state: 6619\n",
            "chase: 6598\n",
            "issue: 6511\n",
            "service: 6413\n",
            "date: 6173\n",
            "fraud: 5799\n",
            "email: 5626\n",
            "dispute: 5610\n",
            "business: 5295\n",
            "interest: 5231\n",
            "statement: 5196\n"
          ]
        },
        {
          "data": {
            "image/png": "[encoded data removed]",
            "text/plain": [
              "<Figure size 1500x700 with 1 Axes>"
            ]
          },
          "metadata": {},
          "output_type": "display_data"
        }
      ],
      "source": [
        "from wordcloud import WordCloud\n",
        "import matplotlib.pyplot as plt\n",
        "from collections import Counter\n",
        "\n",
        "# Combine all processed complaints into one string\n",
        "all_words = ' '.join(df_clean['complaint_POS_removed'].dropna()).split()\n",
        "\n",
        "# Count word frequencies\n",
        "word_freq = Counter(all_words)\n",
        "\n",
        "# Get the top 40 words\n",
        "top_40_words = word_freq.most_common(40)\n",
        "\n",
        "# Display the top 40 words with their counts\n",
        "print(\"Top 40 Words by Frequency:\")\n",
        "for word, freq in top_40_words:\n",
        "    print(f\"{word}: {freq}\")\n",
        "\n",
        "# Generate the word cloud for top 40 words\n",
        "wordcloud = WordCloud(width=800, height=400, max_words=40, background_color='white')\n",
        "wordcloud = wordcloud.generate_from_frequencies(dict(top_40_words))\n",
        "\n",
        "# Plot the word cloud\n",
        "plt.figure(figsize=(15, 7))\n",
        "plt.imshow(wordcloud, interpolation='bilinear')\n",
        "plt.axis('off')\n",
        "plt.title('Top 40 Words by Frequency (Processed Complaints)')\n",
        "plt.show()\n"
      ]
    },
    {
      "cell_type": "code",
      "execution_count": 41,
      "metadata": {
        "id": "OkSmc3UaJrF4"
      },
      "outputs": [],
      "source": [
        "#Removing -PRON- from the text corpus\n",
        "df_clean['Complaint_clean'] = df_clean['complaint_POS_removed'].str.replace('-PRON-', '')"
      ]
    },
    {
      "cell_type": "markdown",
      "metadata": {
        "id": "5DfCSbbmJrF4"
      },
      "source": [
        "#### Find the top unigrams,bigrams and trigrams by frequency among all the complaints after processing the text."
      ]
    },
    {
      "cell_type": "code",
      "execution_count": 44,
      "metadata": {
        "id": "5mbk5DS5JrF4"
      },
      "outputs": [
        {
          "name": "stdout",
          "output_type": "stream",
          "text": [
            "Top 30 Unigrams by Frequency:\n",
            "account: 46854\n",
            "credit: 30373\n",
            "card: 27916\n",
            "XXXX: 25781\n",
            "payment: 20859\n",
            "bank: 17582\n",
            "time: 16034\n",
            "charge: 14754\n",
            "day: 13159\n",
            "money: 11895\n",
            "check: 10983\n",
            "loan: 10208\n",
            "information: 9561\n",
            "letter: 9477\n",
            "fee: 8576\n",
            "number: 8540\n",
            "month: 8504\n",
            "report: 8480\n",
            "transaction: 8421\n",
            "year: 8405\n",
            "amount: 8309\n",
            "call: 7912\n",
            "phone: 7560\n",
            "balance: 7555\n",
            "customer: 7456\n",
            "company: 7391\n",
            "fund: 6972\n",
            "mortgage: 6911\n",
            "claim: 6703\n",
            "state: 6619\n"
          ]
        }
      ],
      "source": [
        "from collections import Counter\n",
        "\n",
        "#Write your code here to find the top 30 unigram frequency among the complaints in the cleaned datafram(df_clean).\n",
        "# Get the top 30 unigrams by frequency\n",
        "top_30_unigrams = Counter(all_words).most_common(30)\n",
        "\n",
        "# Display the top 30 unigrams with their counts\n",
        "print(\"Top 30 Unigrams by Frequency:\")\n",
        "for word, freq in top_30_unigrams:\n",
        "    print(f\"{word}: {freq}\")"
      ]
    },
    {
      "cell_type": "code",
      "execution_count": 46,
      "metadata": {
        "id": "YX7fedm1JrF8"
      },
      "outputs": [
        {
          "name": "stdout",
          "output_type": "stream",
          "text": [
            "account: 46854\n",
            "credit: 30373\n",
            "card: 27916\n",
            "XXXX: 25781\n",
            "payment: 20859\n",
            "bank: 17582\n",
            "time: 16034\n",
            "charge: 14754\n",
            "day: 13159\n",
            "money: 11895\n"
          ]
        }
      ],
      "source": [
        "#Print the top 10 words in the unigram frequency\n",
        "for word, freq in top_30_unigrams[:10]:\n",
        "    print(f\"{word}: {freq}\")"
      ]
    },
    {
      "cell_type": "code",
      "execution_count": 48,
      "metadata": {
        "id": "aV7kD7w8JrF8"
      },
      "outputs": [
        {
          "name": "stdout",
          "output_type": "stream",
          "text": [
            "Top 30 Bigrams by Frequency:\n",
            "credit card: 11269\n",
            "XXXX XXXX: 3784\n",
            "credit report: 3739\n",
            "account account: 2671\n",
            "customer service: 2622\n",
            "checking account: 2533\n",
            "bank account: 2289\n",
            "debit card: 1841\n",
            "card account: 1650\n",
            "phone call: 1649\n",
            "credit score: 1648\n",
            "account credit: 1592\n",
            "money account: 1372\n",
            "payment payment: 1357\n",
            "check account: 1294\n",
            "interest rate: 1290\n",
            "business day: 1252\n",
            "phone number: 1246\n",
            "card card: 1222\n",
            "charge account: 1167\n",
            "account bank: 1150\n",
            "account XXXX: 1105\n",
            "account number: 1089\n",
            "card company: 1039\n",
            "mortgage payment: 1026\n",
            "credit account: 993\n",
            "card credit: 975\n",
            "fund account: 967\n",
            "police report: 943\n",
            "payment account: 931\n"
          ]
        }
      ],
      "source": [
        "from collections import Counter\n",
        "\n",
        "#Write your code here to find the top 30 bigram frequency among the complaints in the cleaned datafram(df_clean).\n",
        "# Generate bigrams from all_words\n",
        "bigrams = zip(all_words, all_words[1:])\n",
        "bigram_list = [' '.join(bigram) for bigram in bigrams]\n",
        "\n",
        "# Get the top 30 bigrams by frequency\n",
        "top_30_bigrams = Counter(bigram_list).most_common(30)\n",
        "\n",
        "# Display the top 30 bigrams with their counts\n",
        "print(\"Top 30 Bigrams by Frequency:\")\n",
        "for bigram, freq in top_30_bigrams:\n",
        "    print(f\"{bigram}: {freq}\")"
      ]
    },
    {
      "cell_type": "code",
      "execution_count": 49,
      "metadata": {
        "id": "NPnMNIpyJrF9"
      },
      "outputs": [
        {
          "name": "stdout",
          "output_type": "stream",
          "text": [
            "credit card: 11269\n",
            "XXXX XXXX: 3784\n",
            "credit report: 3739\n",
            "account account: 2671\n",
            "customer service: 2622\n",
            "checking account: 2533\n",
            "bank account: 2289\n",
            "debit card: 1841\n",
            "card account: 1650\n",
            "phone call: 1649\n"
          ]
        }
      ],
      "source": [
        "#Print the top 10 words in the bigram frequency\n",
        "for word, freq in top_30_bigrams[:10]:\n",
        "    print(f\"{word}: {freq}\")"
      ]
    },
    {
      "cell_type": "code",
      "execution_count": 50,
      "metadata": {
        "id": "Xkh7vtbtJrF-"
      },
      "outputs": [
        {
          "name": "stdout",
          "output_type": "stream",
          "text": [
            "Top 30 Trigrams by Frequency:\n",
            "credit card account: 1040\n",
            "XXXX XXXX XXXX: 1017\n",
            "credit card company: 886\n",
            "account credit card: 520\n",
            "inquiry credit report: 497\n",
            "credit card credit: 494\n",
            "charge credit card: 470\n",
            "card credit card: 416\n",
            "credit report credit: 326\n",
            "customer service representative: 316\n",
            "credit reporting agency: 313\n",
            "chase credit card: 295\n",
            "credit card charge: 291\n",
            "credit card payment: 277\n",
            "payment credit card: 275\n",
            "account credit report: 275\n",
            "XXXX credit card: 270\n",
            "credit card card: 264\n",
            "credit card balance: 243\n",
            "victim identity theft: 222\n",
            "credit card XXXX: 208\n",
            "interest rate %: 206\n",
            "account account account: 203\n",
            "letter date XXXX: 199\n",
            "credit card statement: 197\n",
            "credit card year: 196\n",
            "credit card number: 182\n",
            "credit card bank: 182\n",
            "report credit report: 179\n",
            "account bank account: 178\n"
          ]
        }
      ],
      "source": [
        "#Write your code here to find the top 30 trigram frequency among the complaints in the cleaned datafram(df_clean).\n",
        "# Generate trigrams from all_words\n",
        "trigrams = zip(all_words, all_words[1:], all_words[2:])\n",
        "trigram_list = [' '.join(trigram) for trigram in trigrams]\n",
        "\n",
        "# Get the top 30 trigrams by frequency\n",
        "top_30_trigrams = Counter(trigram_list).most_common(30)\n",
        "\n",
        "# Display the top 30 trigrams with their counts\n",
        "print(\"Top 30 Trigrams by Frequency:\")\n",
        "for trigram, freq in top_30_trigrams:\n",
        "    print(f\"{trigram}: {freq}\")"
      ]
    },
    {
      "cell_type": "code",
      "execution_count": 51,
      "metadata": {
        "id": "REcVxNfvJrF-"
      },
      "outputs": [
        {
          "name": "stdout",
          "output_type": "stream",
          "text": [
            "credit card account: 1040\n",
            "XXXX XXXX XXXX: 1017\n",
            "credit card company: 886\n",
            "account credit card: 520\n",
            "inquiry credit report: 497\n",
            "credit card credit: 494\n",
            "charge credit card: 470\n",
            "card credit card: 416\n",
            "credit report credit: 326\n",
            "customer service representative: 316\n"
          ]
        }
      ],
      "source": [
        "#Print the top 10 words in the trigram frequency\n",
        "for word, freq in top_30_trigrams[:10]:\n",
        "    print(f\"{word}: {freq}\")"
      ]
    },
    {
      "cell_type": "markdown",
      "metadata": {
        "id": "yUXzFji0JrF_"
      },
      "source": [
        "## The personal details of customer has been masked in the dataset with xxxx. Let's remove the masked text as this will be of no use for our analysis"
      ]
    },
    {
      "cell_type": "code",
      "execution_count": 52,
      "metadata": {
        "id": "wKda-a_IJrF_"
      },
      "outputs": [],
      "source": [
        "df_clean['Complaint_clean'] = df_clean['Complaint_clean'].str.replace('xxxx','')"
      ]
    },
    {
      "cell_type": "code",
      "execution_count": 53,
      "metadata": {
        "id": "9UIFk8fQJrF_"
      },
      "outputs": [
        {
          "data": {
            "text/html": [
              "<div>\n",
              "<style scoped>\n",
              "    .dataframe tbody tr th:only-of-type {\n",
              "        vertical-align: middle;\n",
              "    }\n",
              "\n",
              "    .dataframe tbody tr th {\n",
              "        vertical-align: top;\n",
              "    }\n",
              "\n",
              "    .dataframe thead th {\n",
              "        text-align: right;\n",
              "    }\n",
              "</style>\n",
              "<table border=\"1\" class=\"dataframe\">\n",
              "  <thead>\n",
              "    <tr style=\"text-align: right;\">\n",
              "      <th></th>\n",
              "      <th>complaint_what_happened</th>\n",
              "      <th>lemmatized_complaint</th>\n",
              "      <th>complaint_POS_removed</th>\n",
              "      <th>complaint_length</th>\n",
              "      <th>Complaint_clean</th>\n",
              "    </tr>\n",
              "  </thead>\n",
              "  <tbody>\n",
              "    <tr>\n",
              "      <th>1</th>\n",
              "      <td>Good morning my name is XXXX XXXX and I apprec...</td>\n",
              "      <td>good morning my name be XXXX xxxx and I apprec...</td>\n",
              "      <td>morning name stop cardmember service debt veri...</td>\n",
              "      <td>486</td>\n",
              "      <td>morning name stop cardmember service debt veri...</td>\n",
              "    </tr>\n",
              "    <tr>\n",
              "      <th>2</th>\n",
              "      <td>I upgraded my XXXX XXXX card in XX/XX/2018 and...</td>\n",
              "      <td>I upgrade my XXXX XXXX card in XX / XX/2018 an...</td>\n",
              "      <td>XXXX card XX/2018 agent anniversary date agent...</td>\n",
              "      <td>355</td>\n",
              "      <td>XXXX card XX/2018 agent anniversary date agent...</td>\n",
              "    </tr>\n",
              "    <tr>\n",
              "      <th>10</th>\n",
              "      <td>Chase Card was reported on XX/XX/2019. However...</td>\n",
              "      <td>Chase Card be report on XX / XX/2019 . however...</td>\n",
              "      <td>report application identity consent service cr...</td>\n",
              "      <td>224</td>\n",
              "      <td>report application identity consent service cr...</td>\n",
              "    </tr>\n",
              "    <tr>\n",
              "      <th>11</th>\n",
              "      <td>On XX/XX/2018, while trying to book a XXXX  XX...</td>\n",
              "      <td>on XX / XX/2018 , while try to book a XXXX   x...</td>\n",
              "      <td>ticket offer ticket reward card information of...</td>\n",
              "      <td>1502</td>\n",
              "      <td>ticket offer ticket reward card information of...</td>\n",
              "    </tr>\n",
              "    <tr>\n",
              "      <th>14</th>\n",
              "      <td>my grand son give me check for {$1600.00} i de...</td>\n",
              "      <td>my grand son give I check for { $ 1600.00 } I ...</td>\n",
              "      <td>son chase account fund chase bank account mone...</td>\n",
              "      <td>477</td>\n",
              "      <td>son chase account fund chase bank account mone...</td>\n",
              "    </tr>\n",
              "    <tr>\n",
              "      <th>...</th>\n",
              "      <td>...</td>\n",
              "      <td>...</td>\n",
              "      <td>...</td>\n",
              "      <td>...</td>\n",
              "      <td>...</td>\n",
              "    </tr>\n",
              "    <tr>\n",
              "      <th>78303</th>\n",
              "      <td>After being a Chase Card customer for well ove...</td>\n",
              "      <td>after be a Chase Card customer for well over a...</td>\n",
              "      <td>customer decade solicitation credit card bonus...</td>\n",
              "      <td>679</td>\n",
              "      <td>customer decade solicitation credit card bonus...</td>\n",
              "    </tr>\n",
              "    <tr>\n",
              "      <th>78309</th>\n",
              "      <td>On Wednesday, XX/XX/XXXX I called Chas, my XXX...</td>\n",
              "      <td>on Wednesday , XX / XX / XXXX I call Chas , my...</td>\n",
              "      <td>provider claim purchase protection benefit XXX...</td>\n",
              "      <td>2114</td>\n",
              "      <td>provider claim purchase protection benefit XXX...</td>\n",
              "    </tr>\n",
              "    <tr>\n",
              "      <th>78310</th>\n",
              "      <td>I am not familiar with XXXX pay and did not un...</td>\n",
              "      <td>I be not familiar with XXXX pay and do not und...</td>\n",
              "      <td>risk consumer bank app year banking merchant m...</td>\n",
              "      <td>2319</td>\n",
              "      <td>risk consumer bank app year banking merchant m...</td>\n",
              "    </tr>\n",
              "    <tr>\n",
              "      <th>78311</th>\n",
              "      <td>I have had flawless credit for 30 yrs. I've ha...</td>\n",
              "      <td>I have have flawless credit for 30 yr . I have...</td>\n",
              "      <td>credit yr credit card problem balance transfer...</td>\n",
              "      <td>2171</td>\n",
              "      <td>credit yr credit card problem balance transfer...</td>\n",
              "    </tr>\n",
              "    <tr>\n",
              "      <th>78312</th>\n",
              "      <td>Roughly 10+ years ago I closed out my accounts...</td>\n",
              "      <td>roughly 10 + year ago I close out my account w...</td>\n",
              "      <td>year account order line credit account payment...</td>\n",
              "      <td>794</td>\n",
              "      <td>year account order line credit account payment...</td>\n",
              "    </tr>\n",
              "  </tbody>\n",
              "</table>\n",
              "<p>21072 rows × 5 columns</p>\n",
              "</div>"
            ],
            "text/plain": [
              "                                 complaint_what_happened  \\\n",
              "1      Good morning my name is XXXX XXXX and I apprec...   \n",
              "2      I upgraded my XXXX XXXX card in XX/XX/2018 and...   \n",
              "10     Chase Card was reported on XX/XX/2019. However...   \n",
              "11     On XX/XX/2018, while trying to book a XXXX  XX...   \n",
              "14     my grand son give me check for {$1600.00} i de...   \n",
              "...                                                  ...   \n",
              "78303  After being a Chase Card customer for well ove...   \n",
              "78309  On Wednesday, XX/XX/XXXX I called Chas, my XXX...   \n",
              "78310  I am not familiar with XXXX pay and did not un...   \n",
              "78311  I have had flawless credit for 30 yrs. I've ha...   \n",
              "78312  Roughly 10+ years ago I closed out my accounts...   \n",
              "\n",
              "                                    lemmatized_complaint  \\\n",
              "1      good morning my name be XXXX xxxx and I apprec...   \n",
              "2      I upgrade my XXXX XXXX card in XX / XX/2018 an...   \n",
              "10     Chase Card be report on XX / XX/2019 . however...   \n",
              "11     on XX / XX/2018 , while try to book a XXXX   x...   \n",
              "14     my grand son give I check for { $ 1600.00 } I ...   \n",
              "...                                                  ...   \n",
              "78303  after be a Chase Card customer for well over a...   \n",
              "78309  on Wednesday , XX / XX / XXXX I call Chas , my...   \n",
              "78310  I be not familiar with XXXX pay and do not und...   \n",
              "78311  I have have flawless credit for 30 yr . I have...   \n",
              "78312  roughly 10 + year ago I close out my account w...   \n",
              "\n",
              "                                   complaint_POS_removed  complaint_length  \\\n",
              "1      morning name stop cardmember service debt veri...               486   \n",
              "2      XXXX card XX/2018 agent anniversary date agent...               355   \n",
              "10     report application identity consent service cr...               224   \n",
              "11     ticket offer ticket reward card information of...              1502   \n",
              "14     son chase account fund chase bank account mone...               477   \n",
              "...                                                  ...               ...   \n",
              "78303  customer decade solicitation credit card bonus...               679   \n",
              "78309  provider claim purchase protection benefit XXX...              2114   \n",
              "78310  risk consumer bank app year banking merchant m...              2319   \n",
              "78311  credit yr credit card problem balance transfer...              2171   \n",
              "78312  year account order line credit account payment...               794   \n",
              "\n",
              "                                         Complaint_clean  \n",
              "1      morning name stop cardmember service debt veri...  \n",
              "2      XXXX card XX/2018 agent anniversary date agent...  \n",
              "10     report application identity consent service cr...  \n",
              "11     ticket offer ticket reward card information of...  \n",
              "14     son chase account fund chase bank account mone...  \n",
              "...                                                  ...  \n",
              "78303  customer decade solicitation credit card bonus...  \n",
              "78309  provider claim purchase protection benefit XXX...  \n",
              "78310  risk consumer bank app year banking merchant m...  \n",
              "78311  credit yr credit card problem balance transfer...  \n",
              "78312  year account order line credit account payment...  \n",
              "\n",
              "[21072 rows x 5 columns]"
            ]
          },
          "execution_count": 53,
          "metadata": {},
          "output_type": "execute_result"
        }
      ],
      "source": [
        "#All masked texts has been removed\n",
        "df_clean"
      ]
    },
    {
      "cell_type": "markdown",
      "metadata": {
        "id": "k-I0k0QtJrGA"
      },
      "source": [
        "## Feature Extraction\n",
        "Convert the raw texts to a matrix of TF-IDF features\n",
        "\n",
        "**max_df** is used for removing terms that appear too frequently, also known as \"corpus-specific stop words\"\n",
        "max_df = 0.95 means \"ignore terms that appear in more than 95% of the complaints\"\n",
        "\n",
        "**min_df** is used for removing terms that appear too infrequently\n",
        "min_df = 2 means \"ignore terms that appear in less than 2 complaints\""
      ]
    },
    {
      "cell_type": "code",
      "execution_count": 54,
      "metadata": {
        "id": "Y8fGwaCPJrGA"
      },
      "outputs": [],
      "source": [
        "#Write your code here to initialise the TfidfVectorizer\n",
        "\n",
        "tfidf = TfidfVectorizer(max_df=0.95, min_df=2, stop_words='english')"
      ]
    },
    {
      "cell_type": "markdown",
      "metadata": {
        "id": "yYzD85nTJrGA"
      },
      "source": [
        "#### Create a document term matrix using fit_transform\n",
        "\n",
        "The contents of a document term matrix are tuples of (complaint_id,token_id) tf-idf score:\n",
        "The tuples that are not there have a tf-idf score of 0"
      ]
    },
    {
      "cell_type": "code",
      "execution_count": 56,
      "metadata": {
        "id": "ffzdDpp_JrGB"
      },
      "outputs": [],
      "source": [
        "#Write your code here to create the Document Term Matrix by transforming the complaints column present in df_clean.\n",
        "\n",
        "dtm = tfidf.fit_transform(df_clean['Complaint_clean'])"
      ]
    },
    {
      "cell_type": "markdown",
      "metadata": {
        "id": "7Q9lwvNEJrGB"
      },
      "source": [
        "## Topic Modelling using NMF\n",
        "\n",
        "Non-Negative Matrix Factorization (NMF) is an unsupervised technique so there are no labeling of topics that the model will be trained on. The way it works is that, NMF decomposes (or factorizes) high-dimensional vectors into a lower-dimensional representation. These lower-dimensional vectors are non-negative which also means their coefficients are non-negative.\n",
        "\n",
        "In this task you have to perform the following:\n",
        "\n",
        "* Find the best number of clusters\n",
        "* Apply the best number to create word clusters\n",
        "* Inspect & validate the correction of each cluster wrt the complaints\n",
        "* Correct the labels if needed\n",
        "* Map the clusters to topics/cluster names"
      ]
    },
    {
      "cell_type": "code",
      "execution_count": 57,
      "metadata": {
        "id": "amLT4omWJrGB"
      },
      "outputs": [],
      "source": [
        "from sklearn.decomposition import NMF"
      ]
    },
    {
      "cell_type": "markdown",
      "metadata": {
        "id": "0wYR1xUTJrGD"
      },
      "source": [
        "## Manual Topic Modeling\n",
        "You need to do take the trial & error approach to find the best num of topics for your NMF model.\n",
        "\n",
        "The only parameter that is required is the number of components i.e. the number of topics we want. This is the most crucial step in the whole topic modeling process and will greatly affect how good your final topics are."
      ]
    },
    {
      "cell_type": "code",
      "execution_count": null,
      "metadata": {
        "id": "sgd2A6bhJrGD"
      },
      "outputs": [],
      "source": [
        "#Load your nmf_model with the n_components i.e 5\n",
        "num_topics = 5\n",
        "\n",
        "#keep the random_state =40\n",
        "nmf_model = NMF(n_components=5, random_state=40)"
      ]
    },
    {
      "cell_type": "code",
      "execution_count": 61,
      "metadata": {
        "id": "VPMDYbt_JrGE"
      },
      "outputs": [
        {
          "data": {
            "text/plain": [
              "6376"
            ]
          },
          "execution_count": 61,
          "metadata": {},
          "output_type": "execute_result"
        }
      ],
      "source": [
        "nmf_model.fit(dtm)\n",
        "len(tfidf.get_feature_names_out())"
      ]
    },
    {
      "cell_type": "code",
      "execution_count": 62,
      "metadata": {
        "id": "16kRfat5JrGE"
      },
      "outputs": [
        {
          "name": "stdout",
          "output_type": "stream",
          "text": [
            "Topic #0:\n",
            "account, check, bank, money, fund, deposit, day, branch, checking, number, chase, business, transaction, transfer, xxxx\n",
            "\n",
            "Topic #1:\n",
            "credit, card, report, inquiry, account, score, company, limit, information, chase, application, debt, letter, year, balance\n",
            "\n",
            "Topic #2:\n",
            "payment, balance, month, fee, statement, time, day, mortgage, auto, xxxx, date, credit, year, pay, account\n",
            "\n",
            "Topic #3:\n",
            "charge, card, fee, transaction, dispute, xxxx, merchant, purchase, claim, fraud, service, statement, time, email, refund\n",
            "\n",
            "Topic #4:\n",
            "loan, mortgage, xxxx, home, modification, property, letter, year, document, time, rate, foreclosure, house, information, request\n",
            "\n"
          ]
        }
      ],
      "source": [
        "#Print the Top15 words for each of the topics\n",
        "# Print the Top15 words for each topic\n",
        "feature_names = tfidf.get_feature_names_out()\n",
        "for topic_idx, topic in enumerate(nmf_model.components_):\n",
        "    print(f\"Topic #{topic_idx}:\")\n",
        "    top_indices = topic.argsort()[::-1][:15]\n",
        "    top_words = [feature_names[i] for i in top_indices]\n",
        "    print(\", \".join(top_words))\n",
        "    print()"
      ]
    },
    {
      "cell_type": "code",
      "execution_count": 63,
      "metadata": {
        "id": "0OIT7LmFJrGF"
      },
      "outputs": [],
      "source": [
        "#Create the best topic for each complaint in terms of integer value 0,1,2,3 & 4\n",
        "\n",
        "df_clean['Topic'] = nmf_model.transform(dtm).argmax(axis=1)"
      ]
    },
    {
      "cell_type": "code",
      "execution_count": 67,
      "metadata": {
        "id": "peyYv-ORJrGF"
      },
      "outputs": [],
      "source": [
        "#Assign the best topic to each of the cmplaints in Topic Column\n",
        "\n",
        "# df_clean['Topic'] = #write your code to assign topics to each rows.\n",
        "df_clean['Topic'] = nmf_model.transform(dtm).argmax(axis=1)"
      ]
    },
    {
      "cell_type": "code",
      "execution_count": 68,
      "metadata": {
        "id": "fLh_Gf3nJrGF"
      },
      "outputs": [
        {
          "data": {
            "text/html": [
              "<div>\n",
              "<style scoped>\n",
              "    .dataframe tbody tr th:only-of-type {\n",
              "        vertical-align: middle;\n",
              "    }\n",
              "\n",
              "    .dataframe tbody tr th {\n",
              "        vertical-align: top;\n",
              "    }\n",
              "\n",
              "    .dataframe thead th {\n",
              "        text-align: right;\n",
              "    }\n",
              "</style>\n",
              "<table border=\"1\" class=\"dataframe\">\n",
              "  <thead>\n",
              "    <tr style=\"text-align: right;\">\n",
              "      <th></th>\n",
              "      <th>complaint_what_happened</th>\n",
              "      <th>lemmatized_complaint</th>\n",
              "      <th>complaint_POS_removed</th>\n",
              "      <th>complaint_length</th>\n",
              "      <th>Complaint_clean</th>\n",
              "      <th>Topic</th>\n",
              "    </tr>\n",
              "  </thead>\n",
              "  <tbody>\n",
              "    <tr>\n",
              "      <th>1</th>\n",
              "      <td>Good morning my name is XXXX XXXX and I apprec...</td>\n",
              "      <td>good morning my name be XXXX xxxx and I apprec...</td>\n",
              "      <td>morning name stop cardmember service debt veri...</td>\n",
              "      <td>486</td>\n",
              "      <td>morning name stop cardmember service debt veri...</td>\n",
              "      <td>0</td>\n",
              "    </tr>\n",
              "    <tr>\n",
              "      <th>2</th>\n",
              "      <td>I upgraded my XXXX XXXX card in XX/XX/2018 and...</td>\n",
              "      <td>I upgrade my XXXX XXXX card in XX / XX/2018 an...</td>\n",
              "      <td>XXXX card XX/2018 agent anniversary date agent...</td>\n",
              "      <td>355</td>\n",
              "      <td>XXXX card XX/2018 agent anniversary date agent...</td>\n",
              "      <td>4</td>\n",
              "    </tr>\n",
              "    <tr>\n",
              "      <th>10</th>\n",
              "      <td>Chase Card was reported on XX/XX/2019. However...</td>\n",
              "      <td>Chase Card be report on XX / XX/2019 . however...</td>\n",
              "      <td>report application identity consent service cr...</td>\n",
              "      <td>224</td>\n",
              "      <td>report application identity consent service cr...</td>\n",
              "      <td>1</td>\n",
              "    </tr>\n",
              "    <tr>\n",
              "      <th>11</th>\n",
              "      <td>On XX/XX/2018, while trying to book a XXXX  XX...</td>\n",
              "      <td>on XX / XX/2018 , while try to book a XXXX   x...</td>\n",
              "      <td>ticket offer ticket reward card information of...</td>\n",
              "      <td>1502</td>\n",
              "      <td>ticket offer ticket reward card information of...</td>\n",
              "      <td>1</td>\n",
              "    </tr>\n",
              "    <tr>\n",
              "      <th>14</th>\n",
              "      <td>my grand son give me check for {$1600.00} i de...</td>\n",
              "      <td>my grand son give I check for { $ 1600.00 } I ...</td>\n",
              "      <td>son chase account fund chase bank account mone...</td>\n",
              "      <td>477</td>\n",
              "      <td>son chase account fund chase bank account mone...</td>\n",
              "      <td>0</td>\n",
              "    </tr>\n",
              "  </tbody>\n",
              "</table>\n",
              "</div>"
            ],
            "text/plain": [
              "                              complaint_what_happened  \\\n",
              "1   Good morning my name is XXXX XXXX and I apprec...   \n",
              "2   I upgraded my XXXX XXXX card in XX/XX/2018 and...   \n",
              "10  Chase Card was reported on XX/XX/2019. However...   \n",
              "11  On XX/XX/2018, while trying to book a XXXX  XX...   \n",
              "14  my grand son give me check for {$1600.00} i de...   \n",
              "\n",
              "                                 lemmatized_complaint  \\\n",
              "1   good morning my name be XXXX xxxx and I apprec...   \n",
              "2   I upgrade my XXXX XXXX card in XX / XX/2018 an...   \n",
              "10  Chase Card be report on XX / XX/2019 . however...   \n",
              "11  on XX / XX/2018 , while try to book a XXXX   x...   \n",
              "14  my grand son give I check for { $ 1600.00 } I ...   \n",
              "\n",
              "                                complaint_POS_removed  complaint_length  \\\n",
              "1   morning name stop cardmember service debt veri...               486   \n",
              "2   XXXX card XX/2018 agent anniversary date agent...               355   \n",
              "10  report application identity consent service cr...               224   \n",
              "11  ticket offer ticket reward card information of...              1502   \n",
              "14  son chase account fund chase bank account mone...               477   \n",
              "\n",
              "                                      Complaint_clean  Topic  \n",
              "1   morning name stop cardmember service debt veri...      0  \n",
              "2   XXXX card XX/2018 agent anniversary date agent...      4  \n",
              "10  report application identity consent service cr...      1  \n",
              "11  ticket offer ticket reward card information of...      1  \n",
              "14  son chase account fund chase bank account mone...      0  "
            ]
          },
          "execution_count": 68,
          "metadata": {},
          "output_type": "execute_result"
        }
      ],
      "source": [
        "df_clean.head()"
      ]
    },
    {
      "cell_type": "code",
      "execution_count": 69,
      "metadata": {
        "id": "aQKpufSPJrGG"
      },
      "outputs": [
        {
          "data": {
            "text/html": [
              "<div>\n",
              "<style scoped>\n",
              "    .dataframe tbody tr th:only-of-type {\n",
              "        vertical-align: middle;\n",
              "    }\n",
              "\n",
              "    .dataframe tbody tr th {\n",
              "        vertical-align: top;\n",
              "    }\n",
              "\n",
              "    .dataframe thead th {\n",
              "        text-align: right;\n",
              "    }\n",
              "</style>\n",
              "<table border=\"1\" class=\"dataframe\">\n",
              "  <thead>\n",
              "    <tr style=\"text-align: right;\">\n",
              "      <th></th>\n",
              "      <th>complaint_what_happened</th>\n",
              "      <th>lemmatized_complaint</th>\n",
              "      <th>complaint_POS_removed</th>\n",
              "      <th>complaint_length</th>\n",
              "      <th>Complaint_clean</th>\n",
              "      <th>Topic</th>\n",
              "    </tr>\n",
              "  </thead>\n",
              "  <tbody>\n",
              "    <tr>\n",
              "      <th>1</th>\n",
              "      <td>Good morning my name is XXXX XXXX and I apprec...</td>\n",
              "      <td>good morning my name be XXXX xxxx and I apprec...</td>\n",
              "      <td>morning name stop cardmember service debt veri...</td>\n",
              "      <td>486</td>\n",
              "      <td>morning name stop cardmember service debt veri...</td>\n",
              "      <td>0</td>\n",
              "    </tr>\n",
              "    <tr>\n",
              "      <th>14</th>\n",
              "      <td>my grand son give me check for {$1600.00} i de...</td>\n",
              "      <td>my grand son give I check for { $ 1600.00 } I ...</td>\n",
              "      <td>son chase account fund chase bank account mone...</td>\n",
              "      <td>477</td>\n",
              "      <td>son chase account fund chase bank account mone...</td>\n",
              "      <td>0</td>\n",
              "    </tr>\n",
              "    <tr>\n",
              "      <th>17</th>\n",
              "      <td>With out notice J.P. Morgan Chase restricted m...</td>\n",
              "      <td>with out notice J.P. Morgan Chase restrict my ...</td>\n",
              "      <td>notice account debit card branch customer serv...</td>\n",
              "      <td>2277</td>\n",
              "      <td>notice account debit card branch customer serv...</td>\n",
              "      <td>0</td>\n",
              "    </tr>\n",
              "    <tr>\n",
              "      <th>24</th>\n",
              "      <td>mishandling of this account by Chase auto and ...</td>\n",
              "      <td>mishandle of this account by Chase auto and XX...</td>\n",
              "      <td>mishandle account auto</td>\n",
              "      <td>51</td>\n",
              "      <td>mishandle account auto</td>\n",
              "      <td>0</td>\n",
              "    </tr>\n",
              "    <tr>\n",
              "      <th>27</th>\n",
              "      <td>I opened an account with chase bank on XXXX an...</td>\n",
              "      <td>I open an account with chase bank on XXXX and ...</td>\n",
              "      <td>account bank code bonus term account deposit b...</td>\n",
              "      <td>413</td>\n",
              "      <td>account bank code bonus term account deposit b...</td>\n",
              "      <td>0</td>\n",
              "    </tr>\n",
              "    <tr>\n",
              "      <th>11</th>\n",
              "      <td>On XX/XX/2018, while trying to book a XXXX  XX...</td>\n",
              "      <td>on XX / XX/2018 , while try to book a XXXX   x...</td>\n",
              "      <td>ticket offer ticket reward card information of...</td>\n",
              "      <td>1502</td>\n",
              "      <td>ticket offer ticket reward card information of...</td>\n",
              "      <td>1</td>\n",
              "    </tr>\n",
              "    <tr>\n",
              "      <th>15</th>\n",
              "      <td>Can you please remove inquiry</td>\n",
              "      <td>can you please remove inquiry</td>\n",
              "      <td>inquiry</td>\n",
              "      <td>29</td>\n",
              "      <td>inquiry</td>\n",
              "      <td>1</td>\n",
              "    </tr>\n",
              "    <tr>\n",
              "      <th>10</th>\n",
              "      <td>Chase Card was reported on XX/XX/2019. However...</td>\n",
              "      <td>Chase Card be report on XX / XX/2019 . however...</td>\n",
              "      <td>report application identity consent service cr...</td>\n",
              "      <td>224</td>\n",
              "      <td>report application identity consent service cr...</td>\n",
              "      <td>1</td>\n",
              "    </tr>\n",
              "    <tr>\n",
              "      <th>26</th>\n",
              "      <td>I have reached out to XXXX several times in at...</td>\n",
              "      <td>I have reach out to XXXX several time in attem...</td>\n",
              "      <td>time attempt inquiry remove creditor inquiry r...</td>\n",
              "      <td>753</td>\n",
              "      <td>time attempt inquiry remove creditor inquiry r...</td>\n",
              "      <td>1</td>\n",
              "    </tr>\n",
              "    <tr>\n",
              "      <th>23</th>\n",
              "      <td>I have a Chase credit card which is incorrectl...</td>\n",
              "      <td>I have a Chase credit card which be incorrectl...</td>\n",
              "      <td>credit card report datum credit report company...</td>\n",
              "      <td>129</td>\n",
              "      <td>credit card report datum credit report company...</td>\n",
              "      <td>1</td>\n",
              "    </tr>\n",
              "    <tr>\n",
              "      <th>20</th>\n",
              "      <td>During the summer months, I experience a decli...</td>\n",
              "      <td>during the summer month , I experience a decli...</td>\n",
              "      <td>summer month decline income employment month p...</td>\n",
              "      <td>1396</td>\n",
              "      <td>summer month decline income employment month p...</td>\n",
              "      <td>2</td>\n",
              "    </tr>\n",
              "    <tr>\n",
              "      <th>58</th>\n",
              "      <td>I made a purchase of {$260.00} on XX/XX/XXXX. ...</td>\n",
              "      <td>I make a purchase of { $ 260.00 } on XX / XX /...</td>\n",
              "      <td>purchase XXXX payment XXXX XXXX payment closin...</td>\n",
              "      <td>1274</td>\n",
              "      <td>purchase XXXX payment XXXX XXXX payment closin...</td>\n",
              "      <td>2</td>\n",
              "    </tr>\n",
              "    <tr>\n",
              "      <th>167</th>\n",
              "      <td>A double payment from my chase debt cart to ch...</td>\n",
              "      <td>a double payment from my chase debt cart to ch...</td>\n",
              "      <td>payment chase debt cart credit card post reque...</td>\n",
              "      <td>338</td>\n",
              "      <td>payment chase debt cart credit card post reque...</td>\n",
              "      <td>2</td>\n",
              "    </tr>\n",
              "    <tr>\n",
              "      <th>82</th>\n",
              "      <td>I recently called to ask Chase bank why they r...</td>\n",
              "      <td>I recently call to ask Chase bank why they rep...</td>\n",
              "      <td>bank credit day payment info xxxx bill balance...</td>\n",
              "      <td>1372</td>\n",
              "      <td>bank credit day payment info  bill balance bil...</td>\n",
              "      <td>2</td>\n",
              "    </tr>\n",
              "    <tr>\n",
              "      <th>141</th>\n",
              "      <td>Action Taken By The Company Between the dates ...</td>\n",
              "      <td>action take by the Company between the date of...</td>\n",
              "      <td>action date XXXX individual group contact clai...</td>\n",
              "      <td>6263</td>\n",
              "      <td>action date XXXX individual group contact clai...</td>\n",
              "      <td>2</td>\n",
              "    </tr>\n",
              "    <tr>\n",
              "      <th>21</th>\n",
              "      <td>On XXXX XX/XX/2019, I made a {$300.00} payment...</td>\n",
              "      <td>on XXXX XX / XX/2019 , I make a { $ 300.00 } p...</td>\n",
              "      <td>payment retailer use pay website scam website ...</td>\n",
              "      <td>3541</td>\n",
              "      <td>payment retailer use pay website scam website ...</td>\n",
              "      <td>3</td>\n",
              "    </tr>\n",
              "    <tr>\n",
              "      <th>50</th>\n",
              "      <td>I AM A SENIOR CITIZEN THAT HAS BEEN SCAMMED BY...</td>\n",
              "      <td>I be a senior citizen that have be SCAMMED by ...</td>\n",
              "      <td>citizen company time share company refund card...</td>\n",
              "      <td>350</td>\n",
              "      <td>citizen company time share company refund card...</td>\n",
              "      <td>3</td>\n",
              "    </tr>\n",
              "    <tr>\n",
              "      <th>45</th>\n",
              "      <td>I made a purchase with XXXX XXXX XXXX on XX/XX...</td>\n",
              "      <td>I make a purchase with XXXX xxxx xxxx on XX / ...</td>\n",
              "      <td>purchase amount charge transaction dispute cas...</td>\n",
              "      <td>1920</td>\n",
              "      <td>purchase amount charge transaction dispute cas...</td>\n",
              "      <td>3</td>\n",
              "    </tr>\n",
              "    <tr>\n",
              "      <th>30</th>\n",
              "      <td>To whom it may concern, Chase bank charged wro...</td>\n",
              "      <td>to whom it may concern , Chase bank charge wro...</td>\n",
              "      <td>concern bank charge overdraft fee alert balanc...</td>\n",
              "      <td>566</td>\n",
              "      <td>concern bank charge overdraft fee alert balanc...</td>\n",
              "      <td>3</td>\n",
              "    </tr>\n",
              "    <tr>\n",
              "      <th>40</th>\n",
              "      <td>XXXX XXXX a sofa, love seat, table and chairs ...</td>\n",
              "      <td>XXXX XXXX a sofa , love seat , table and chair...</td>\n",
              "      <td>sofa love seat table chair debit card charge c...</td>\n",
              "      <td>165</td>\n",
              "      <td>sofa love seat table chair debit card charge c...</td>\n",
              "      <td>3</td>\n",
              "    </tr>\n",
              "    <tr>\n",
              "      <th>2</th>\n",
              "      <td>I upgraded my XXXX XXXX card in XX/XX/2018 and...</td>\n",
              "      <td>I upgrade my XXXX XXXX card in XX / XX/2018 an...</td>\n",
              "      <td>XXXX card XX/2018 agent anniversary date agent...</td>\n",
              "      <td>355</td>\n",
              "      <td>XXXX card XX/2018 agent anniversary date agent...</td>\n",
              "      <td>4</td>\n",
              "    </tr>\n",
              "    <tr>\n",
              "      <th>57</th>\n",
              "      <td>I have been trying to do a loan modification w...</td>\n",
              "      <td>I have be try to do a loan modification with C...</td>\n",
              "      <td>loan modification runaround mo payment</td>\n",
              "      <td>190</td>\n",
              "      <td>loan modification runaround mo payment</td>\n",
              "      <td>4</td>\n",
              "    </tr>\n",
              "    <tr>\n",
              "      <th>81</th>\n",
              "      <td>I bought a new XXXX XXXX on XX/XX/XXXX from XX...</td>\n",
              "      <td>I buy a new xxxx xxxx on XX / XX / xxxx from X...</td>\n",
              "      <td>loan xxxxbut chase title chase time resolution...</td>\n",
              "      <td>437</td>\n",
              "      <td>loan but chase title chase time resolution tim...</td>\n",
              "      <td>4</td>\n",
              "    </tr>\n",
              "    <tr>\n",
              "      <th>48</th>\n",
              "      <td>JP Morgan Chase Bank, please answer the follow...</td>\n",
              "      <td>JP Morgan Chase Bank , please answer the follo...</td>\n",
              "      <td>question XXXX XXXX XXXX XXXX access informatio...</td>\n",
              "      <td>1229</td>\n",
              "      <td>question XXXX XXXX XXXX XXXX access informatio...</td>\n",
              "      <td>4</td>\n",
              "    </tr>\n",
              "    <tr>\n",
              "      <th>73</th>\n",
              "      <td>I have wired through one of Chase branches in ...</td>\n",
              "      <td>I have wire through one of Chase branch in XXX...</td>\n",
              "      <td>wire branch order foreclosure property trustee...</td>\n",
              "      <td>1143</td>\n",
              "      <td>wire branch order foreclosure property trustee...</td>\n",
              "      <td>4</td>\n",
              "    </tr>\n",
              "  </tbody>\n",
              "</table>\n",
              "</div>"
            ],
            "text/plain": [
              "                               complaint_what_happened  \\\n",
              "1    Good morning my name is XXXX XXXX and I apprec...   \n",
              "14   my grand son give me check for {$1600.00} i de...   \n",
              "17   With out notice J.P. Morgan Chase restricted m...   \n",
              "24   mishandling of this account by Chase auto and ...   \n",
              "27   I opened an account with chase bank on XXXX an...   \n",
              "11   On XX/XX/2018, while trying to book a XXXX  XX...   \n",
              "15                       Can you please remove inquiry   \n",
              "10   Chase Card was reported on XX/XX/2019. However...   \n",
              "26   I have reached out to XXXX several times in at...   \n",
              "23   I have a Chase credit card which is incorrectl...   \n",
              "20   During the summer months, I experience a decli...   \n",
              "58   I made a purchase of {$260.00} on XX/XX/XXXX. ...   \n",
              "167  A double payment from my chase debt cart to ch...   \n",
              "82   I recently called to ask Chase bank why they r...   \n",
              "141  Action Taken By The Company Between the dates ...   \n",
              "21   On XXXX XX/XX/2019, I made a {$300.00} payment...   \n",
              "50   I AM A SENIOR CITIZEN THAT HAS BEEN SCAMMED BY...   \n",
              "45   I made a purchase with XXXX XXXX XXXX on XX/XX...   \n",
              "30   To whom it may concern, Chase bank charged wro...   \n",
              "40   XXXX XXXX a sofa, love seat, table and chairs ...   \n",
              "2    I upgraded my XXXX XXXX card in XX/XX/2018 and...   \n",
              "57   I have been trying to do a loan modification w...   \n",
              "81   I bought a new XXXX XXXX on XX/XX/XXXX from XX...   \n",
              "48   JP Morgan Chase Bank, please answer the follow...   \n",
              "73   I have wired through one of Chase branches in ...   \n",
              "\n",
              "                                  lemmatized_complaint  \\\n",
              "1    good morning my name be XXXX xxxx and I apprec...   \n",
              "14   my grand son give I check for { $ 1600.00 } I ...   \n",
              "17   with out notice J.P. Morgan Chase restrict my ...   \n",
              "24   mishandle of this account by Chase auto and XX...   \n",
              "27   I open an account with chase bank on XXXX and ...   \n",
              "11   on XX / XX/2018 , while try to book a XXXX   x...   \n",
              "15                       can you please remove inquiry   \n",
              "10   Chase Card be report on XX / XX/2019 . however...   \n",
              "26   I have reach out to XXXX several time in attem...   \n",
              "23   I have a Chase credit card which be incorrectl...   \n",
              "20   during the summer month , I experience a decli...   \n",
              "58   I make a purchase of { $ 260.00 } on XX / XX /...   \n",
              "167  a double payment from my chase debt cart to ch...   \n",
              "82   I recently call to ask Chase bank why they rep...   \n",
              "141  action take by the Company between the date of...   \n",
              "21   on XXXX XX / XX/2019 , I make a { $ 300.00 } p...   \n",
              "50   I be a senior citizen that have be SCAMMED by ...   \n",
              "45   I make a purchase with XXXX xxxx xxxx on XX / ...   \n",
              "30   to whom it may concern , Chase bank charge wro...   \n",
              "40   XXXX XXXX a sofa , love seat , table and chair...   \n",
              "2    I upgrade my XXXX XXXX card in XX / XX/2018 an...   \n",
              "57   I have be try to do a loan modification with C...   \n",
              "81   I buy a new xxxx xxxx on XX / XX / xxxx from X...   \n",
              "48   JP Morgan Chase Bank , please answer the follo...   \n",
              "73   I have wire through one of Chase branch in XXX...   \n",
              "\n",
              "                                 complaint_POS_removed  complaint_length  \\\n",
              "1    morning name stop cardmember service debt veri...               486   \n",
              "14   son chase account fund chase bank account mone...               477   \n",
              "17   notice account debit card branch customer serv...              2277   \n",
              "24                              mishandle account auto                51   \n",
              "27   account bank code bonus term account deposit b...               413   \n",
              "11   ticket offer ticket reward card information of...              1502   \n",
              "15                                             inquiry                29   \n",
              "10   report application identity consent service cr...               224   \n",
              "26   time attempt inquiry remove creditor inquiry r...               753   \n",
              "23   credit card report datum credit report company...               129   \n",
              "20   summer month decline income employment month p...              1396   \n",
              "58   purchase XXXX payment XXXX XXXX payment closin...              1274   \n",
              "167  payment chase debt cart credit card post reque...               338   \n",
              "82   bank credit day payment info xxxx bill balance...              1372   \n",
              "141  action date XXXX individual group contact clai...              6263   \n",
              "21   payment retailer use pay website scam website ...              3541   \n",
              "50   citizen company time share company refund card...               350   \n",
              "45   purchase amount charge transaction dispute cas...              1920   \n",
              "30   concern bank charge overdraft fee alert balanc...               566   \n",
              "40   sofa love seat table chair debit card charge c...               165   \n",
              "2    XXXX card XX/2018 agent anniversary date agent...               355   \n",
              "57              loan modification runaround mo payment               190   \n",
              "81   loan xxxxbut chase title chase time resolution...               437   \n",
              "48   question XXXX XXXX XXXX XXXX access informatio...              1229   \n",
              "73   wire branch order foreclosure property trustee...              1143   \n",
              "\n",
              "                                       Complaint_clean  Topic  \n",
              "1    morning name stop cardmember service debt veri...      0  \n",
              "14   son chase account fund chase bank account mone...      0  \n",
              "17   notice account debit card branch customer serv...      0  \n",
              "24                              mishandle account auto      0  \n",
              "27   account bank code bonus term account deposit b...      0  \n",
              "11   ticket offer ticket reward card information of...      1  \n",
              "15                                             inquiry      1  \n",
              "10   report application identity consent service cr...      1  \n",
              "26   time attempt inquiry remove creditor inquiry r...      1  \n",
              "23   credit card report datum credit report company...      1  \n",
              "20   summer month decline income employment month p...      2  \n",
              "58   purchase XXXX payment XXXX XXXX payment closin...      2  \n",
              "167  payment chase debt cart credit card post reque...      2  \n",
              "82   bank credit day payment info  bill balance bil...      2  \n",
              "141  action date XXXX individual group contact clai...      2  \n",
              "21   payment retailer use pay website scam website ...      3  \n",
              "50   citizen company time share company refund card...      3  \n",
              "45   purchase amount charge transaction dispute cas...      3  \n",
              "30   concern bank charge overdraft fee alert balanc...      3  \n",
              "40   sofa love seat table chair debit card charge c...      3  \n",
              "2    XXXX card XX/2018 agent anniversary date agent...      4  \n",
              "57              loan modification runaround mo payment      4  \n",
              "81   loan but chase title chase time resolution tim...      4  \n",
              "48   question XXXX XXXX XXXX XXXX access informatio...      4  \n",
              "73   wire branch order foreclosure property trustee...      4  "
            ]
          },
          "execution_count": 69,
          "metadata": {},
          "output_type": "execute_result"
        }
      ],
      "source": [
        "#Print the first 5 Complaint for each of the Topics\n",
        "df_clean=df_clean.groupby('Topic').head(5)\n",
        "df_clean.sort_values('Topic')"
      ]
    },
    {
      "cell_type": "markdown",
      "metadata": {
        "id": "piyLxzj6v07j"
      },
      "source": [
        "#### After evaluating the mapping, if the topics assigned are correct then assign these names to the relevant topic:\n",
        "* Bank Account services\n",
        "* Credit card or prepaid card\n",
        "* Theft/Dispute Reporting\n",
        "* Mortgage/Loan\n",
        "* Others"
      ]
    },
    {
      "cell_type": "code",
      "execution_count": null,
      "metadata": {
        "id": "TWpwDG4RJrGG"
      },
      "outputs": [],
      "source": [
        "#Create the dictionary of Topic names and Topics\n",
        "\n",
        "Topic_names = {   }\n",
        "#Replace Topics with Topic Names\n",
        "df_clean['Topic'] = df_clean['Topic'].map(Topic_names)"
      ]
    },
    {
      "cell_type": "code",
      "execution_count": null,
      "metadata": {
        "id": "-2ULY5K6JrGG"
      },
      "outputs": [],
      "source": [
        "df_clean"
      ]
    },
    {
      "cell_type": "markdown",
      "metadata": {
        "id": "7Mu0QBOcJrGH"
      },
      "source": [
        "## Supervised model to predict any new complaints to the relevant Topics.\n",
        "\n",
        "You have now build the model to create the topics for each complaints.Now in the below section you will use them to classify any new complaints.\n",
        "\n",
        "Since you will be using supervised learning technique we have to convert the topic names to numbers(numpy arrays only understand numbers)"
      ]
    },
    {
      "cell_type": "code",
      "execution_count": null,
      "metadata": {
        "id": "_U8J3J8wJrGH"
      },
      "outputs": [],
      "source": [
        "#Create the dictionary again of Topic names and Topics\n",
        "\n",
        "Topic_names = {   }\n",
        "#Replace Topics with Topic Names\n",
        "df_clean['Topic'] = df_clean['Topic'].map(Topic_names)"
      ]
    },
    {
      "cell_type": "code",
      "execution_count": null,
      "metadata": {
        "id": "BWIgJUkQJrGH"
      },
      "outputs": [],
      "source": [
        "df_clean"
      ]
    },
    {
      "cell_type": "code",
      "execution_count": null,
      "metadata": {
        "id": "Xx-FrbkWJrGH"
      },
      "outputs": [],
      "source": [
        "#Keep the columns\"complaint_what_happened\" & \"Topic\" only in the new dataframe --> training_data\n",
        "training_data="
      ]
    },
    {
      "cell_type": "code",
      "execution_count": null,
      "metadata": {
        "id": "lVg2pa12JrGI"
      },
      "outputs": [],
      "source": [
        "training_data"
      ]
    },
    {
      "cell_type": "markdown",
      "metadata": {
        "id": "280Vbqk-7a8M"
      },
      "source": [
        "####Apply the supervised models on the training data created. In this process, you have to do the following:\n",
        "* Create the vector counts using Count Vectoriser\n",
        "* Transform the word vecotr to tf-idf\n",
        "* Create the train & test data using the train_test_split on the tf-idf & topics\n"
      ]
    },
    {
      "cell_type": "code",
      "execution_count": null,
      "metadata": {
        "id": "oUlQpgkzJrGI"
      },
      "outputs": [],
      "source": [
        "\n",
        "#Write your code to get the Vector count\n",
        "\n",
        "\n",
        "#Write your code here to transform the word vector to tf-idf"
      ]
    },
    {
      "cell_type": "markdown",
      "metadata": {
        "id": "uMU3vj6w-wqL"
      },
      "source": [
        "You have to try atleast 3 models on the train & test data from these options:\n",
        "* Logistic regression\n",
        "* Decision Tree\n",
        "* Random Forest\n",
        "* Naive Bayes (optional)\n",
        "\n",
        "**Using the required evaluation metrics judge the tried models and select the ones performing the best**"
      ]
    },
    {
      "cell_type": "code",
      "execution_count": null,
      "metadata": {
        "id": "udLHpPsZJrGI"
      },
      "outputs": [],
      "source": [
        "# Write your code here to build any 3 models and evaluate them using the required metrics\n",
        "\n",
        "\n",
        "\n"
      ]
    },
    {
      "cell_type": "code",
      "execution_count": null,
      "metadata": {
        "id": "N2OznsObJrGP"
      },
      "outputs": [],
      "source": []
    }
  ],
  "metadata": {
    "colab": {
      "collapsed_sections": [
        "T9jD_6SeJrF3",
        "5DfCSbbmJrF4",
        "yYzD85nTJrGA",
        "piyLxzj6v07j",
        "280Vbqk-7a8M"
      ],
      "provenance": []
    },
    "kernelspec": {
      "display_name": "Python 3",
      "language": "python",
      "name": "python3"
    },
    "language_info": {
      "codemirror_mode": {
        "name": "ipython",
        "version": 3
      },
      "file_extension": ".py",
      "mimetype": "text/x-python",
      "name": "python",
      "nbconvert_exporter": "python",
      "pygments_lexer": "ipython3",
      "version": "3.11.0"
    }
  },
  "nbformat": 4,
  "nbformat_minor": 0
}
